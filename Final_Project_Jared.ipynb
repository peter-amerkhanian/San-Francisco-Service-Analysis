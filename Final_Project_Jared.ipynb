{
 "cells": [
  {
   "cell_type": "code",
   "execution_count": 206,
   "id": "addd6df1",
   "metadata": {},
   "outputs": [],
   "source": [
    "from sodapy import Socrata\n",
    "import pandas as pd\n",
    "import numpy as np\n",
    "from datetime import datetime, timedelta\n",
    "import matplotlib.pyplot as plt\n",
    "from sklearn.metrics import mean_squared_error, r2_score\n",
    "from sklearn.preprocessing import StandardScaler\n",
    "from sklearn.model_selection import GridSearchCV\n",
    "from statsmodels.tsa.arima.model import ARIMA\n",
    "from pmdarima.arima import auto_arima\n",
    "from statsmodels.graphics.tsaplots import plot_acf, plot_pacf\n",
    "import time\n",
    "import retrieval_311"
   ]
  },
  {
   "cell_type": "code",
   "execution_count": 207,
   "id": "a5b3f1bf",
   "metadata": {},
   "outputs": [],
   "source": [
    "df = pd.read_csv('data/processed_data.csv')\n",
    "df = df.drop(labels=df.keys()[0], axis=1)\n",
    "df['datetime'] = pd.to_datetime(df['datetime'],format=\"%Y-%m-%d\")\n",
    "df = df[(df['datetime'].dt.year > 2008) & (df['datetime'].dt.year < 2023)]"
   ]
  },
  {
   "cell_type": "code",
   "execution_count": 208,
   "id": "85380bc6",
   "metadata": {},
   "outputs": [
    {
     "data": {
      "text/html": [
       "<div>\n",
       "<style scoped>\n",
       "    .dataframe tbody tr th:only-of-type {\n",
       "        vertical-align: middle;\n",
       "    }\n",
       "\n",
       "    .dataframe tbody tr th {\n",
       "        vertical-align: top;\n",
       "    }\n",
       "\n",
       "    .dataframe thead th {\n",
       "        text-align: right;\n",
       "    }\n",
       "</style>\n",
       "<table border=\"1\" class=\"dataframe\">\n",
       "  <thead>\n",
       "    <tr style=\"text-align: right;\">\n",
       "      <th></th>\n",
       "      <th>Hours</th>\n",
       "      <th>CaseID</th>\n",
       "      <th>Month</th>\n",
       "      <th>Day</th>\n",
       "      <th>Day_Month</th>\n",
       "      <th>Hour</th>\n",
       "      <th>Year</th>\n",
       "    </tr>\n",
       "  </thead>\n",
       "  <tbody>\n",
       "    <tr>\n",
       "      <th>4416</th>\n",
       "      <td>2009-01-01 00:00:00</td>\n",
       "      <td>0</td>\n",
       "      <td>1</td>\n",
       "      <td>3</td>\n",
       "      <td>1</td>\n",
       "      <td>0</td>\n",
       "      <td>2009</td>\n",
       "    </tr>\n",
       "    <tr>\n",
       "      <th>4417</th>\n",
       "      <td>2009-01-01 01:00:00</td>\n",
       "      <td>0</td>\n",
       "      <td>1</td>\n",
       "      <td>3</td>\n",
       "      <td>1</td>\n",
       "      <td>1</td>\n",
       "      <td>2009</td>\n",
       "    </tr>\n",
       "    <tr>\n",
       "      <th>4418</th>\n",
       "      <td>2009-01-01 02:00:00</td>\n",
       "      <td>0</td>\n",
       "      <td>1</td>\n",
       "      <td>3</td>\n",
       "      <td>1</td>\n",
       "      <td>2</td>\n",
       "      <td>2009</td>\n",
       "    </tr>\n",
       "    <tr>\n",
       "      <th>4419</th>\n",
       "      <td>2009-01-01 03:00:00</td>\n",
       "      <td>0</td>\n",
       "      <td>1</td>\n",
       "      <td>3</td>\n",
       "      <td>1</td>\n",
       "      <td>3</td>\n",
       "      <td>2009</td>\n",
       "    </tr>\n",
       "    <tr>\n",
       "      <th>4420</th>\n",
       "      <td>2009-01-01 04:00:00</td>\n",
       "      <td>0</td>\n",
       "      <td>1</td>\n",
       "      <td>3</td>\n",
       "      <td>1</td>\n",
       "      <td>4</td>\n",
       "      <td>2009</td>\n",
       "    </tr>\n",
       "    <tr>\n",
       "      <th>...</th>\n",
       "      <td>...</td>\n",
       "      <td>...</td>\n",
       "      <td>...</td>\n",
       "      <td>...</td>\n",
       "      <td>...</td>\n",
       "      <td>...</td>\n",
       "      <td>...</td>\n",
       "    </tr>\n",
       "    <tr>\n",
       "      <th>127123</th>\n",
       "      <td>2022-12-31 19:00:00</td>\n",
       "      <td>6</td>\n",
       "      <td>12</td>\n",
       "      <td>5</td>\n",
       "      <td>31</td>\n",
       "      <td>19</td>\n",
       "      <td>2022</td>\n",
       "    </tr>\n",
       "    <tr>\n",
       "      <th>127124</th>\n",
       "      <td>2022-12-31 20:00:00</td>\n",
       "      <td>3</td>\n",
       "      <td>12</td>\n",
       "      <td>5</td>\n",
       "      <td>31</td>\n",
       "      <td>20</td>\n",
       "      <td>2022</td>\n",
       "    </tr>\n",
       "    <tr>\n",
       "      <th>127125</th>\n",
       "      <td>2022-12-31 21:00:00</td>\n",
       "      <td>8</td>\n",
       "      <td>12</td>\n",
       "      <td>5</td>\n",
       "      <td>31</td>\n",
       "      <td>21</td>\n",
       "      <td>2022</td>\n",
       "    </tr>\n",
       "    <tr>\n",
       "      <th>127126</th>\n",
       "      <td>2022-12-31 22:00:00</td>\n",
       "      <td>6</td>\n",
       "      <td>12</td>\n",
       "      <td>5</td>\n",
       "      <td>31</td>\n",
       "      <td>22</td>\n",
       "      <td>2022</td>\n",
       "    </tr>\n",
       "    <tr>\n",
       "      <th>127127</th>\n",
       "      <td>2022-12-31 23:00:00</td>\n",
       "      <td>3</td>\n",
       "      <td>12</td>\n",
       "      <td>5</td>\n",
       "      <td>31</td>\n",
       "      <td>23</td>\n",
       "      <td>2022</td>\n",
       "    </tr>\n",
       "  </tbody>\n",
       "</table>\n",
       "<p>122712 rows × 7 columns</p>\n",
       "</div>"
      ],
      "text/plain": [
       "                     Hours  CaseID  Month  Day  Day_Month  Hour  Year\n",
       "4416   2009-01-01 00:00:00       0      1    3          1     0  2009\n",
       "4417   2009-01-01 01:00:00       0      1    3          1     1  2009\n",
       "4418   2009-01-01 02:00:00       0      1    3          1     2  2009\n",
       "4419   2009-01-01 03:00:00       0      1    3          1     3  2009\n",
       "4420   2009-01-01 04:00:00       0      1    3          1     4  2009\n",
       "...                    ...     ...    ...  ...        ...   ...   ...\n",
       "127123 2022-12-31 19:00:00       6     12    5         31    19  2022\n",
       "127124 2022-12-31 20:00:00       3     12    5         31    20  2022\n",
       "127125 2022-12-31 21:00:00       8     12    5         31    21  2022\n",
       "127126 2022-12-31 22:00:00       6     12    5         31    22  2022\n",
       "127127 2022-12-31 23:00:00       3     12    5         31    23  2022\n",
       "\n",
       "[122712 rows x 7 columns]"
      ]
     },
     "execution_count": 208,
     "metadata": {},
     "output_type": "execute_result"
    }
   ],
   "source": [
    "full_hourly_count = df.copy()\n",
    "full_hourly_count.columns = ['Hours', 'CaseID', 'Month', 'Day', 'Day_Month', 'Hour']\n",
    "full_hourly_count['Year'] = full_hourly_count['Hours'].dt.year\n",
    "full_hourly_count"
   ]
  },
  {
   "cell_type": "code",
   "execution_count": 209,
   "id": "8c8904fb",
   "metadata": {},
   "outputs": [
    {
     "data": {
      "text/html": [
       "<div>\n",
       "<style scoped>\n",
       "    .dataframe tbody tr th:only-of-type {\n",
       "        vertical-align: middle;\n",
       "    }\n",
       "\n",
       "    .dataframe tbody tr th {\n",
       "        vertical-align: top;\n",
       "    }\n",
       "\n",
       "    .dataframe thead th {\n",
       "        text-align: right;\n",
       "    }\n",
       "</style>\n",
       "<table border=\"1\" class=\"dataframe\">\n",
       "  <thead>\n",
       "    <tr style=\"text-align: right;\">\n",
       "      <th></th>\n",
       "      <th>Hours</th>\n",
       "      <th>CaseID</th>\n",
       "      <th>Month</th>\n",
       "      <th>Day</th>\n",
       "      <th>Day_Month</th>\n",
       "      <th>Hour</th>\n",
       "      <th>Year</th>\n",
       "      <th>CaseID_norm</th>\n",
       "    </tr>\n",
       "  </thead>\n",
       "  <tbody>\n",
       "    <tr>\n",
       "      <th>4416</th>\n",
       "      <td>2009-01-01 00:00:00</td>\n",
       "      <td>0</td>\n",
       "      <td>1</td>\n",
       "      <td>3</td>\n",
       "      <td>1</td>\n",
       "      <td>0</td>\n",
       "      <td>2009</td>\n",
       "      <td>-0.965170</td>\n",
       "    </tr>\n",
       "    <tr>\n",
       "      <th>4417</th>\n",
       "      <td>2009-01-01 01:00:00</td>\n",
       "      <td>0</td>\n",
       "      <td>1</td>\n",
       "      <td>3</td>\n",
       "      <td>1</td>\n",
       "      <td>1</td>\n",
       "      <td>2009</td>\n",
       "      <td>-0.965170</td>\n",
       "    </tr>\n",
       "    <tr>\n",
       "      <th>4418</th>\n",
       "      <td>2009-01-01 02:00:00</td>\n",
       "      <td>0</td>\n",
       "      <td>1</td>\n",
       "      <td>3</td>\n",
       "      <td>1</td>\n",
       "      <td>2</td>\n",
       "      <td>2009</td>\n",
       "      <td>-0.965170</td>\n",
       "    </tr>\n",
       "    <tr>\n",
       "      <th>4419</th>\n",
       "      <td>2009-01-01 03:00:00</td>\n",
       "      <td>0</td>\n",
       "      <td>1</td>\n",
       "      <td>3</td>\n",
       "      <td>1</td>\n",
       "      <td>3</td>\n",
       "      <td>2009</td>\n",
       "      <td>-0.965170</td>\n",
       "    </tr>\n",
       "    <tr>\n",
       "      <th>4420</th>\n",
       "      <td>2009-01-01 04:00:00</td>\n",
       "      <td>0</td>\n",
       "      <td>1</td>\n",
       "      <td>3</td>\n",
       "      <td>1</td>\n",
       "      <td>4</td>\n",
       "      <td>2009</td>\n",
       "      <td>-0.965170</td>\n",
       "    </tr>\n",
       "    <tr>\n",
       "      <th>...</th>\n",
       "      <td>...</td>\n",
       "      <td>...</td>\n",
       "      <td>...</td>\n",
       "      <td>...</td>\n",
       "      <td>...</td>\n",
       "      <td>...</td>\n",
       "      <td>...</td>\n",
       "      <td>...</td>\n",
       "    </tr>\n",
       "    <tr>\n",
       "      <th>127123</th>\n",
       "      <td>2022-12-31 19:00:00</td>\n",
       "      <td>6</td>\n",
       "      <td>12</td>\n",
       "      <td>5</td>\n",
       "      <td>31</td>\n",
       "      <td>19</td>\n",
       "      <td>2022</td>\n",
       "      <td>-0.884812</td>\n",
       "    </tr>\n",
       "    <tr>\n",
       "      <th>127124</th>\n",
       "      <td>2022-12-31 20:00:00</td>\n",
       "      <td>3</td>\n",
       "      <td>12</td>\n",
       "      <td>5</td>\n",
       "      <td>31</td>\n",
       "      <td>20</td>\n",
       "      <td>2022</td>\n",
       "      <td>-0.984097</td>\n",
       "    </tr>\n",
       "    <tr>\n",
       "      <th>127125</th>\n",
       "      <td>2022-12-31 21:00:00</td>\n",
       "      <td>8</td>\n",
       "      <td>12</td>\n",
       "      <td>5</td>\n",
       "      <td>31</td>\n",
       "      <td>21</td>\n",
       "      <td>2022</td>\n",
       "      <td>-0.818623</td>\n",
       "    </tr>\n",
       "    <tr>\n",
       "      <th>127126</th>\n",
       "      <td>2022-12-31 22:00:00</td>\n",
       "      <td>6</td>\n",
       "      <td>12</td>\n",
       "      <td>5</td>\n",
       "      <td>31</td>\n",
       "      <td>22</td>\n",
       "      <td>2022</td>\n",
       "      <td>-0.884812</td>\n",
       "    </tr>\n",
       "    <tr>\n",
       "      <th>127127</th>\n",
       "      <td>2022-12-31 23:00:00</td>\n",
       "      <td>3</td>\n",
       "      <td>12</td>\n",
       "      <td>5</td>\n",
       "      <td>31</td>\n",
       "      <td>23</td>\n",
       "      <td>2022</td>\n",
       "      <td>-0.984097</td>\n",
       "    </tr>\n",
       "  </tbody>\n",
       "</table>\n",
       "<p>122712 rows × 8 columns</p>\n",
       "</div>"
      ],
      "text/plain": [
       "                     Hours  CaseID  Month  Day  Day_Month  Hour  Year  \\\n",
       "4416   2009-01-01 00:00:00       0      1    3          1     0  2009   \n",
       "4417   2009-01-01 01:00:00       0      1    3          1     1  2009   \n",
       "4418   2009-01-01 02:00:00       0      1    3          1     2  2009   \n",
       "4419   2009-01-01 03:00:00       0      1    3          1     3  2009   \n",
       "4420   2009-01-01 04:00:00       0      1    3          1     4  2009   \n",
       "...                    ...     ...    ...  ...        ...   ...   ...   \n",
       "127123 2022-12-31 19:00:00       6     12    5         31    19  2022   \n",
       "127124 2022-12-31 20:00:00       3     12    5         31    20  2022   \n",
       "127125 2022-12-31 21:00:00       8     12    5         31    21  2022   \n",
       "127126 2022-12-31 22:00:00       6     12    5         31    22  2022   \n",
       "127127 2022-12-31 23:00:00       3     12    5         31    23  2022   \n",
       "\n",
       "        CaseID_norm  \n",
       "4416      -0.965170  \n",
       "4417      -0.965170  \n",
       "4418      -0.965170  \n",
       "4419      -0.965170  \n",
       "4420      -0.965170  \n",
       "...             ...  \n",
       "127123    -0.884812  \n",
       "127124    -0.984097  \n",
       "127125    -0.818623  \n",
       "127126    -0.884812  \n",
       "127127    -0.984097  \n",
       "\n",
       "[122712 rows x 8 columns]"
      ]
     },
     "execution_count": 209,
     "metadata": {},
     "output_type": "execute_result"
    }
   ],
   "source": [
    "# normalize the data by year\n",
    "# Clipping outliers outside of 3 standard deviations for each year\n",
    "# saving a list of scalers to inverse forecasted data\n",
    "\n",
    "normalized_data_array = []\n",
    "scaler_list = []\n",
    "for year in np.unique(full_hourly_count['Year']):\n",
    "    scaler = StandardScaler()\n",
    "    curr_year_data = full_hourly_count[full_hourly_count['Year']==year]['CaseID'].values\n",
    "    curr_std = curr_year_data.std()\n",
    "    clipped_curr_year_data = np.array([x if np.abs(x) < 3*curr_std else 3*curr_std for x in curr_year_data])\n",
    "    normalized_data = scaler.fit_transform(clipped_curr_year_data.reshape(-1,1)).reshape(-1)\n",
    "    normalized_data_array.append(normalized_data)\n",
    "    scaler_list.append(scaler)\n",
    "    \n",
    "scaler_dict = {'scaler': scaler_list}\n",
    "full_hourly_count['CaseID_norm'] = np.hstack(normalized_data_array)\n",
    "full_hourly_count"
   ]
  },
  {
   "cell_type": "markdown",
   "id": "af70fcff",
   "metadata": {},
   "source": [
    "## ARIMA"
   ]
  },
  {
   "cell_type": "code",
   "execution_count": 210,
   "id": "14bbb490",
   "metadata": {},
   "outputs": [
    {
     "data": {
      "image/png": "[encoded data removed]",
      "text/plain": [
       "<Figure size 432x288 with 1 Axes>"
      ]
     },
     "metadata": {
      "needs_background": "light"
     },
     "output_type": "display_data"
    },
    {
     "data": {
      "image/png": "[encoded data removed]",
      "text/plain": [
       "<Figure size 432x288 with 1 Axes>"
      ]
     },
     "metadata": {
      "needs_background": "light"
     },
     "output_type": "display_data"
    }
   ],
   "source": [
    "plot_acf(full_hourly_count['CaseID_norm'].values.astype(float), lags=168, alpha=0.05)\n",
    "plt.savefig('figures/ARIMA_autocorrelation', dpi=300)\n",
    "plot_pacf(full_hourly_count['CaseID_norm'].values.astype(float), method='ywm')\n",
    "plt.savefig('figures/ARIMA_partial_autocorrelation', dpi=300)\n",
    "plt.show();"
   ]
  },
  {
   "cell_type": "markdown",
   "id": "3ee89d40",
   "metadata": {},
   "source": [
    "### 2021 predict 2022 tune hyperparameters"
   ]
  },
  {
   "cell_type": "code",
   "execution_count": 211,
   "id": "9228e3c0",
   "metadata": {},
   "outputs": [
    {
     "data": {
      "text/html": [
       "<div>\n",
       "<style scoped>\n",
       "    .dataframe tbody tr th:only-of-type {\n",
       "        vertical-align: middle;\n",
       "    }\n",
       "\n",
       "    .dataframe tbody tr th {\n",
       "        vertical-align: top;\n",
       "    }\n",
       "\n",
       "    .dataframe thead th {\n",
       "        text-align: right;\n",
       "    }\n",
       "</style>\n",
       "<table border=\"1\" class=\"dataframe\">\n",
       "  <thead>\n",
       "    <tr style=\"text-align: right;\">\n",
       "      <th></th>\n",
       "      <th>Hours</th>\n",
       "      <th>CaseID</th>\n",
       "      <th>Month</th>\n",
       "      <th>Day</th>\n",
       "      <th>Day_Month</th>\n",
       "      <th>Hour</th>\n",
       "      <th>Year</th>\n",
       "      <th>CaseID_norm</th>\n",
       "    </tr>\n",
       "  </thead>\n",
       "  <tbody>\n",
       "    <tr>\n",
       "      <th>118368</th>\n",
       "      <td>2022-01-01 00:00:00</td>\n",
       "      <td>4</td>\n",
       "      <td>1</td>\n",
       "      <td>5</td>\n",
       "      <td>1</td>\n",
       "      <td>0</td>\n",
       "      <td>2022</td>\n",
       "      <td>-0.951002</td>\n",
       "    </tr>\n",
       "    <tr>\n",
       "      <th>118369</th>\n",
       "      <td>2022-01-01 01:00:00</td>\n",
       "      <td>8</td>\n",
       "      <td>1</td>\n",
       "      <td>5</td>\n",
       "      <td>1</td>\n",
       "      <td>1</td>\n",
       "      <td>2022</td>\n",
       "      <td>-0.818623</td>\n",
       "    </tr>\n",
       "    <tr>\n",
       "      <th>118370</th>\n",
       "      <td>2022-01-01 02:00:00</td>\n",
       "      <td>1</td>\n",
       "      <td>1</td>\n",
       "      <td>5</td>\n",
       "      <td>1</td>\n",
       "      <td>2</td>\n",
       "      <td>2022</td>\n",
       "      <td>-1.050286</td>\n",
       "    </tr>\n",
       "    <tr>\n",
       "      <th>118371</th>\n",
       "      <td>2022-01-01 03:00:00</td>\n",
       "      <td>1</td>\n",
       "      <td>1</td>\n",
       "      <td>5</td>\n",
       "      <td>1</td>\n",
       "      <td>3</td>\n",
       "      <td>2022</td>\n",
       "      <td>-1.050286</td>\n",
       "    </tr>\n",
       "    <tr>\n",
       "      <th>118372</th>\n",
       "      <td>2022-01-01 04:00:00</td>\n",
       "      <td>11</td>\n",
       "      <td>1</td>\n",
       "      <td>5</td>\n",
       "      <td>1</td>\n",
       "      <td>4</td>\n",
       "      <td>2022</td>\n",
       "      <td>-0.719339</td>\n",
       "    </tr>\n",
       "    <tr>\n",
       "      <th>...</th>\n",
       "      <td>...</td>\n",
       "      <td>...</td>\n",
       "      <td>...</td>\n",
       "      <td>...</td>\n",
       "      <td>...</td>\n",
       "      <td>...</td>\n",
       "      <td>...</td>\n",
       "      <td>...</td>\n",
       "    </tr>\n",
       "    <tr>\n",
       "      <th>127123</th>\n",
       "      <td>2022-12-31 19:00:00</td>\n",
       "      <td>6</td>\n",
       "      <td>12</td>\n",
       "      <td>5</td>\n",
       "      <td>31</td>\n",
       "      <td>19</td>\n",
       "      <td>2022</td>\n",
       "      <td>-0.884812</td>\n",
       "    </tr>\n",
       "    <tr>\n",
       "      <th>127124</th>\n",
       "      <td>2022-12-31 20:00:00</td>\n",
       "      <td>3</td>\n",
       "      <td>12</td>\n",
       "      <td>5</td>\n",
       "      <td>31</td>\n",
       "      <td>20</td>\n",
       "      <td>2022</td>\n",
       "      <td>-0.984097</td>\n",
       "    </tr>\n",
       "    <tr>\n",
       "      <th>127125</th>\n",
       "      <td>2022-12-31 21:00:00</td>\n",
       "      <td>8</td>\n",
       "      <td>12</td>\n",
       "      <td>5</td>\n",
       "      <td>31</td>\n",
       "      <td>21</td>\n",
       "      <td>2022</td>\n",
       "      <td>-0.818623</td>\n",
       "    </tr>\n",
       "    <tr>\n",
       "      <th>127126</th>\n",
       "      <td>2022-12-31 22:00:00</td>\n",
       "      <td>6</td>\n",
       "      <td>12</td>\n",
       "      <td>5</td>\n",
       "      <td>31</td>\n",
       "      <td>22</td>\n",
       "      <td>2022</td>\n",
       "      <td>-0.884812</td>\n",
       "    </tr>\n",
       "    <tr>\n",
       "      <th>127127</th>\n",
       "      <td>2022-12-31 23:00:00</td>\n",
       "      <td>3</td>\n",
       "      <td>12</td>\n",
       "      <td>5</td>\n",
       "      <td>31</td>\n",
       "      <td>23</td>\n",
       "      <td>2022</td>\n",
       "      <td>-0.984097</td>\n",
       "    </tr>\n",
       "  </tbody>\n",
       "</table>\n",
       "<p>8760 rows × 8 columns</p>\n",
       "</div>"
      ],
      "text/plain": [
       "                     Hours  CaseID  Month  Day  Day_Month  Hour  Year  \\\n",
       "118368 2022-01-01 00:00:00       4      1    5          1     0  2022   \n",
       "118369 2022-01-01 01:00:00       8      1    5          1     1  2022   \n",
       "118370 2022-01-01 02:00:00       1      1    5          1     2  2022   \n",
       "118371 2022-01-01 03:00:00       1      1    5          1     3  2022   \n",
       "118372 2022-01-01 04:00:00      11      1    5          1     4  2022   \n",
       "...                    ...     ...    ...  ...        ...   ...   ...   \n",
       "127123 2022-12-31 19:00:00       6     12    5         31    19  2022   \n",
       "127124 2022-12-31 20:00:00       3     12    5         31    20  2022   \n",
       "127125 2022-12-31 21:00:00       8     12    5         31    21  2022   \n",
       "127126 2022-12-31 22:00:00       6     12    5         31    22  2022   \n",
       "127127 2022-12-31 23:00:00       3     12    5         31    23  2022   \n",
       "\n",
       "        CaseID_norm  \n",
       "118368    -0.951002  \n",
       "118369    -0.818623  \n",
       "118370    -1.050286  \n",
       "118371    -1.050286  \n",
       "118372    -0.719339  \n",
       "...             ...  \n",
       "127123    -0.884812  \n",
       "127124    -0.984097  \n",
       "127125    -0.818623  \n",
       "127126    -0.884812  \n",
       "127127    -0.984097  \n",
       "\n",
       "[8760 rows x 8 columns]"
      ]
     },
     "execution_count": 211,
     "metadata": {},
     "output_type": "execute_result"
    }
   ],
   "source": [
    "data_2021 = full_hourly_count[full_hourly_count['Year']==2021]\n",
    "data_2021\n",
    "\n",
    "data_2022 = full_hourly_count[full_hourly_count['Year']==2022]\n",
    "data_2022"
   ]
  },
  {
   "cell_type": "code",
   "execution_count": 212,
   "id": "4ef07ef8",
   "metadata": {},
   "outputs": [],
   "source": [
    "# model=ARIMA()\n",
    "# params = {}\n",
    "# cv_model = GridSearchCV(model, param_grid=params, scoring='accuracy', refit=True, return_train_score=True)\n",
    "# cv_model.fit(X_train, y_train)\n",
    "# model = cv_model.best_estimator_\n",
    "# model.fit(X_train, y_train)\n",
    "\n",
    "# GridSearchCV()\n",
    "\n",
    "\n",
    "# model = auto_arima(data_2021['CaseID'].values, start_p=1, start_q=1,\n",
    "#                            max_p=26, max_q=2, m=1,\n",
    "#                            seasonal=True,\n",
    "#                            d=0, trace=True,\n",
    "#                            error_action='warn',  \n",
    "#                            suppress_warnings=True, \n",
    "#                            stepwise=True)\n",
    "# print(model.aic())\n",
    "\n",
    "# model.fit(data_2021['CaseID'].values)\n",
    "\n",
    "# prediction1 = model.predict(n_periods=len(data_2021['CaseID'].values))\n",
    "# prediction2 = model.predict(n_periods=len(data_2022['CaseID'].values))"
   ]
  },
  {
   "cell_type": "code",
   "execution_count": 216,
   "id": "15be5d91",
   "metadata": {},
   "outputs": [],
   "source": [
    "def tune_arima_hyperparams(data, forecast_length, p, d):\n",
    "    '''\n",
    "    Inputs:\n",
    "        data\n",
    "        p - max order of autoregressive model to evaluate\n",
    "        d - max degree of differencing to evaluate\n",
    "    Outputs:\n",
    "        aic_array - numpy array of maic of each model evaluated\n",
    "        mse_array - numpy array of mse of each model evaluated\n",
    "        optimal_order - tuple, values of p,d,q that resulted in lowest mse\n",
    "        forecast - \n",
    "    '''\n",
    "    aic_array = np.ones((p,d))\n",
    "    mse_array = np.ones((p,d))\n",
    "    order_array = []\n",
    "    for i in range(p):\n",
    "        for j in range(d):\n",
    "            model = ARIMA(data, order=(i+1,j+1,0))\n",
    "            model_fit = model.fit()\n",
    "            aic_array[i][j] = model_fit.aic\n",
    "            mse_array[i][j] = model_fit.mse\n",
    "            order_array.append(model.order)\n",
    "            print(model.order)\n",
    "            print(model_fit.aic)\n",
    "            print(model_fit.mse)\n",
    "            print(\"------------\")\n",
    "\n",
    "    optimal_order = order_array[np.argmin(mse_array)]\n",
    "    best_model = ARIMA(data, order=optimal_order)\n",
    "    model_fit = best_model.fit()\n",
    "    print(model_fit.summary())\n",
    "    forecast = model_fit.predict(end=forecast_length)\n",
    "    return aic_array, mse_array, optimal_order, forecast"
   ]
  },
  {
   "cell_type": "code",
   "execution_count": 215,
   "id": "57fbe899",
   "metadata": {},
   "outputs": [
    {
     "name": "stdout",
     "output_type": "stream",
     "text": [
      "(1, 1, 0)\n",
      "15406.697582484474\n",
      "------------\n",
      "(1, 2, 0)\n",
      "18784.115007164764\n",
      "------------\n",
      "(2, 1, 0)\n",
      "15403.323453901194\n",
      "------------\n",
      "(2, 2, 0)\n",
      "17925.007918928633\n",
      "------------\n",
      "(3, 1, 0)\n",
      "15401.394277621344\n",
      "------------\n",
      "(3, 2, 0)\n",
      "17475.310821478888\n",
      "------------\n",
      "(4, 1, 0)\n",
      "15392.601652700105\n",
      "------------\n",
      "(4, 2, 0)\n",
      "17097.841660727223\n",
      "------------\n",
      "(5, 1, 0)\n",
      "15394.11599353524\n",
      "------------\n",
      "(5, 2, 0)\n",
      "16904.256133605675\n",
      "------------\n",
      "(6, 1, 0)\n",
      "15385.75005774016\n",
      "------------\n",
      "(6, 2, 0)\n",
      "16744.46343226233\n",
      "------------\n",
      "(7, 1, 0)\n",
      "15380.556527901212\n",
      "------------\n",
      "(7, 2, 0)\n",
      "16653.720243656055\n",
      "------------\n",
      "(8, 1, 0)\n",
      "15361.70249121546\n",
      "------------\n",
      "(8, 2, 0)\n",
      "16609.600559884162\n",
      "------------\n",
      "(9, 1, 0)\n",
      "15314.01891481411\n",
      "------------\n",
      "(9, 2, 0)\n",
      "16585.980841723187\n",
      "------------\n",
      "(10, 1, 0)\n",
      "15233.115268299414\n",
      "------------\n",
      "(10, 2, 0)\n",
      "16572.15986204874\n",
      "------------\n",
      "(11, 1, 0)\n",
      "15112.882783857402\n",
      "------------\n",
      "(11, 2, 0)\n",
      "16568.350663613888\n",
      "------------\n",
      "(12, 1, 0)\n",
      "14912.184428232978\n",
      "------------\n",
      "(12, 2, 0)\n",
      "16547.624781203747\n",
      "------------\n",
      "(13, 1, 0)\n",
      "14723.01279290844\n",
      "------------\n",
      "(13, 2, 0)\n",
      "16511.865306378535\n",
      "------------\n",
      "(14, 1, 0)\n",
      "14522.215569185073\n",
      "------------\n",
      "(14, 2, 0)\n",
      "16416.106861063694\n",
      "------------\n",
      "(15, 1, 0)\n",
      "14390.267700053284\n",
      "------------\n",
      "(15, 2, 0)\n",
      "16346.981706424962\n",
      "------------\n",
      "(16, 1, 0)\n",
      "14200.641379511842\n",
      "------------\n",
      "(16, 2, 0)\n",
      "16222.33199001417\n",
      "------------\n",
      "(17, 1, 0)\n",
      "14065.204018514429\n",
      "------------\n",
      "(17, 2, 0)\n",
      "16144.244093870837\n",
      "------------\n",
      "(18, 1, 0)\n",
      "13847.568316062649\n",
      "------------\n",
      "(18, 2, 0)\n",
      "16096.055085379683\n",
      "------------\n",
      "(19, 1, 0)\n",
      "13485.726458234778\n",
      "------------\n",
      "(19, 2, 0)\n",
      "16058.057835629228\n",
      "------------\n",
      "(20, 1, 0)\n",
      "12891.67458051784\n",
      "------------\n",
      "(20, 2, 0)\n",
      "15997.985680824022\n",
      "------------\n",
      "(21, 1, 0)\n",
      "11977.254692912551\n",
      "------------\n",
      "(21, 2, 0)\n",
      "15867.11981673771\n",
      "------------\n",
      "(22, 1, 0)\n",
      "10542.996601580866\n",
      "------------\n",
      "(22, 2, 0)\n",
      "15052.827908220152\n",
      "------------\n",
      "(23, 1, 0)\n",
      "9779.962914326547\n",
      "------------\n",
      "(23, 2, 0)\n",
      "13040.831192935475\n",
      "------------\n",
      "(24, 1, 0)\n",
      "9781.943066012102\n",
      "------------\n",
      "(24, 2, 0)\n",
      "11626.928014191826\n",
      "------------\n",
      "(25, 1, 0)\n",
      "9677.65208636385\n",
      "------------\n",
      "(25, 2, 0)\n",
      "10930.903279568252\n",
      "------------\n",
      "(26, 1, 0)\n",
      "9597.331574295593\n",
      "------------\n",
      "(26, 2, 0)\n",
      "10669.372307042215\n",
      "------------\n",
      "(27, 1, 0)\n",
      "9587.764239208667\n",
      "------------\n",
      "(27, 2, 0)\n",
      "10479.602806439758\n",
      "------------\n",
      "(28, 1, 0)\n",
      "9578.779576298411\n",
      "------------\n",
      "(28, 2, 0)\n",
      "10363.572767876785\n",
      "------------\n",
      "(29, 1, 0)\n",
      "9577.172265134699\n",
      "------------\n"
     ]
    },
    {
     "name": "stderr",
     "output_type": "stream",
     "text": [
      "/Users/jaredschober/opt/anaconda3/lib/python3.9/site-packages/statsmodels/base/model.py:604: ConvergenceWarning: Maximum Likelihood optimization failed to converge. Check mle_retvals\n",
      "  warnings.warn(\"Maximum Likelihood optimization failed to \"\n"
     ]
    },
    {
     "name": "stdout",
     "output_type": "stream",
     "text": [
      "(29, 2, 0)\n",
      "10274.621267397419\n",
      "------------\n",
      "(30, 1, 0)\n",
      "9576.439710964063\n",
      "------------\n",
      "(30, 2, 0)\n",
      "10241.323058471186\n",
      "------------\n",
      "(31, 1, 0)\n",
      "9576.750845842791\n",
      "------------\n",
      "(31, 2, 0)\n",
      "10170.074398140983\n",
      "------------\n",
      "(32, 1, 0)\n",
      "9575.257619062839\n",
      "------------\n",
      "(32, 2, 0)\n",
      "10122.151859019326\n",
      "------------\n",
      "(33, 1, 0)\n",
      "9576.243800676772\n",
      "------------\n",
      "(33, 2, 0)\n",
      "10085.111638221188\n",
      "------------\n",
      "(34, 1, 0)\n",
      "9577.823930056413\n",
      "------------\n",
      "(34, 2, 0)\n",
      "10055.197006360379\n",
      "------------\n",
      "(35, 1, 0)\n",
      "9579.644302757735\n",
      "------------\n",
      "(35, 2, 0)\n",
      "10030.415841803462\n",
      "------------\n",
      "(36, 1, 0)\n",
      "9581.573631294881\n",
      "------------\n",
      "(36, 2, 0)\n",
      "10015.879061127034\n",
      "------------\n",
      "(37, 1, 0)\n",
      "9583.189327595488\n",
      "------------\n",
      "(37, 2, 0)\n",
      "9983.72813490529\n",
      "------------\n",
      "(38, 1, 0)\n",
      "9583.171468170825\n",
      "------------\n",
      "(38, 2, 0)\n",
      "9972.694383981816\n",
      "------------\n",
      "(39, 1, 0)\n",
      "9584.837179664446\n",
      "------------\n"
     ]
    },
    {
     "name": "stderr",
     "output_type": "stream",
     "text": [
      "/Users/jaredschober/opt/anaconda3/lib/python3.9/site-packages/statsmodels/base/model.py:604: ConvergenceWarning: Maximum Likelihood optimization failed to converge. Check mle_retvals\n",
      "  warnings.warn(\"Maximum Likelihood optimization failed to \"\n"
     ]
    },
    {
     "name": "stdout",
     "output_type": "stream",
     "text": [
      "(39, 2, 0)\n",
      "9962.808645676221\n",
      "------------\n",
      "(40, 1, 0)\n",
      "9586.481721270213\n",
      "------------\n",
      "(40, 2, 0)\n",
      "9949.804516123\n",
      "------------\n",
      "(41, 1, 0)\n",
      "9588.479123974954\n",
      "------------\n",
      "(41, 2, 0)\n",
      "9948.632289957783\n",
      "------------\n",
      "(42, 1, 0)\n",
      "9586.297959644067\n",
      "------------\n",
      "(42, 2, 0)\n",
      "9942.894486470304\n",
      "------------\n",
      "(43, 1, 0)\n",
      "9587.27456578955\n",
      "------------\n",
      "(43, 2, 0)\n",
      "9942.896738516405\n",
      "------------\n",
      "(44, 1, 0)\n",
      "9583.696676720821\n",
      "------------\n",
      "(44, 2, 0)\n",
      "9932.186708815438\n",
      "------------\n",
      "(45, 1, 0)\n",
      "9527.985408321123\n",
      "------------\n",
      "(45, 2, 0)\n",
      "9824.700932689475\n",
      "------------\n"
     ]
    },
    {
     "name": "stderr",
     "output_type": "stream",
     "text": [
      "/Users/jaredschober/opt/anaconda3/lib/python3.9/site-packages/statsmodels/base/model.py:604: ConvergenceWarning: Maximum Likelihood optimization failed to converge. Check mle_retvals\n",
      "  warnings.warn(\"Maximum Likelihood optimization failed to \"\n"
     ]
    },
    {
     "name": "stdout",
     "output_type": "stream",
     "text": [
      "(46, 1, 0)\n",
      "9292.821161873946\n",
      "------------\n"
     ]
    },
    {
     "name": "stderr",
     "output_type": "stream",
     "text": [
      "/Users/jaredschober/opt/anaconda3/lib/python3.9/site-packages/statsmodels/base/model.py:604: ConvergenceWarning: Maximum Likelihood optimization failed to converge. Check mle_retvals\n",
      "  warnings.warn(\"Maximum Likelihood optimization failed to \"\n"
     ]
    },
    {
     "name": "stdout",
     "output_type": "stream",
     "text": [
      "(46, 2, 0)\n",
      "9756.014335672251\n",
      "------------\n"
     ]
    },
    {
     "name": "stderr",
     "output_type": "stream",
     "text": [
      "/Users/jaredschober/opt/anaconda3/lib/python3.9/site-packages/statsmodels/base/model.py:604: ConvergenceWarning: Maximum Likelihood optimization failed to converge. Check mle_retvals\n",
      "  warnings.warn(\"Maximum Likelihood optimization failed to \"\n"
     ]
    },
    {
     "name": "stdout",
     "output_type": "stream",
     "text": [
      "(47, 1, 0)\n",
      "9075.140872757149\n",
      "------------\n"
     ]
    },
    {
     "name": "stderr",
     "output_type": "stream",
     "text": [
      "/Users/jaredschober/opt/anaconda3/lib/python3.9/site-packages/statsmodels/base/model.py:604: ConvergenceWarning: Maximum Likelihood optimization failed to converge. Check mle_retvals\n",
      "  warnings.warn(\"Maximum Likelihood optimization failed to \"\n"
     ]
    },
    {
     "name": "stdout",
     "output_type": "stream",
     "text": [
      "(47, 2, 0)\n",
      "9716.736993864017\n",
      "------------\n",
      "(48, 1, 0)\n",
      "9076.815970360307\n",
      "------------\n"
     ]
    },
    {
     "name": "stderr",
     "output_type": "stream",
     "text": [
      "/Users/jaredschober/opt/anaconda3/lib/python3.9/site-packages/statsmodels/base/model.py:604: ConvergenceWarning: Maximum Likelihood optimization failed to converge. Check mle_retvals\n",
      "  warnings.warn(\"Maximum Likelihood optimization failed to \"\n"
     ]
    },
    {
     "name": "stdout",
     "output_type": "stream",
     "text": [
      "(48, 2, 0)\n",
      "9624.458826344187\n",
      "------------\n",
      "                               SARIMAX Results                                \n",
      "==============================================================================\n",
      "Dep. Variable:                      y   No. Observations:                 8760\n",
      "Model:                ARIMA(48, 1, 0)   Log Likelihood               -4489.408\n",
      "Date:                Tue, 02 May 2023   AIC                           9076.816\n",
      "Time:                        13:19:25   BIC                           9423.630\n",
      "Sample:                             0   HQIC                          9194.988\n",
      "                               - 8760                                         \n",
      "Covariance Type:                  opg                                         \n",
      "==============================================================================\n",
      "                 coef    std err          z      P>|z|      [0.025      0.975]\n",
      "------------------------------------------------------------------------------\n",
      "ar.L1         -0.6130      0.008    -77.824      0.000      -0.628      -0.598\n",
      "ar.L2         -0.5777      0.010    -60.225      0.000      -0.596      -0.559\n",
      "ar.L3         -0.5483      0.011    -49.339      0.000      -0.570      -0.527\n",
      "ar.L4         -0.5199      0.012    -44.543      0.000      -0.543      -0.497\n",
      "ar.L5         -0.4712      0.013    -36.864      0.000      -0.496      -0.446\n",
      "ar.L6         -0.4697      0.013    -36.243      0.000      -0.495      -0.444\n",
      "ar.L7         -0.4521      0.014    -33.034      0.000      -0.479      -0.425\n",
      "ar.L8         -0.4501      0.015    -30.256      0.000      -0.479      -0.421\n",
      "ar.L9         -0.4479      0.017    -26.740      0.000      -0.481      -0.415\n",
      "ar.L10        -0.4371      0.018    -24.465      0.000      -0.472      -0.402\n",
      "ar.L11        -0.4247      0.019    -21.850      0.000      -0.463      -0.387\n",
      "ar.L12        -0.4346      0.020    -21.412      0.000      -0.474      -0.395\n",
      "ar.L13        -0.4323      0.022    -19.600      0.000      -0.475      -0.389\n",
      "ar.L14        -0.4372      0.023    -18.629      0.000      -0.483      -0.391\n",
      "ar.L15        -0.4145      0.025    -16.834      0.000      -0.463      -0.366\n",
      "ar.L16        -0.4225      0.024    -17.265      0.000      -0.470      -0.375\n",
      "ar.L17        -0.3892      0.025    -15.819      0.000      -0.437      -0.341\n",
      "ar.L18        -0.3845      0.025    -15.344      0.000      -0.434      -0.335\n",
      "ar.L19        -0.3860      0.025    -15.260      0.000      -0.436      -0.336\n",
      "ar.L20        -0.3775      0.026    -14.703      0.000      -0.428      -0.327\n",
      "ar.L21        -0.3583      0.026    -13.922      0.000      -0.409      -0.308\n",
      "ar.L22        -0.3421      0.026    -13.322      0.000      -0.392      -0.292\n",
      "ar.L23        -0.1918      0.025     -7.661      0.000      -0.241      -0.143\n",
      "ar.L24         0.0240      0.025      0.964      0.335      -0.025       0.073\n",
      "ar.L25         0.0498      0.025      2.001      0.045       0.001       0.099\n",
      "ar.L26        -0.0128      0.025     -0.506      0.613      -0.062       0.037\n",
      "ar.L27        -0.0904      0.025     -3.545      0.000      -0.140      -0.040\n",
      "ar.L28        -0.1094      0.025     -4.295      0.000      -0.159      -0.059\n",
      "ar.L29        -0.1349      0.025     -5.306      0.000      -0.185      -0.085\n",
      "ar.L30        -0.1515      0.025     -5.953      0.000      -0.201      -0.102\n",
      "ar.L31        -0.1787      0.025     -7.053      0.000      -0.228      -0.129\n",
      "ar.L32        -0.1582      0.025     -6.450      0.000      -0.206      -0.110\n",
      "ar.L33        -0.1756      0.024     -7.288      0.000      -0.223      -0.128\n",
      "ar.L34        -0.1813      0.023     -7.851      0.000      -0.227      -0.136\n",
      "ar.L35        -0.1855      0.022     -8.554      0.000      -0.228      -0.143\n",
      "ar.L36        -0.1900      0.020     -9.439      0.000      -0.229      -0.151\n",
      "ar.L37        -0.1991      0.019    -10.641      0.000      -0.236      -0.162\n",
      "ar.L38        -0.1903      0.018    -10.455      0.000      -0.226      -0.155\n",
      "ar.L39        -0.2106      0.017    -12.055      0.000      -0.245      -0.176\n",
      "ar.L40        -0.2127      0.016    -13.283      0.000      -0.244      -0.181\n",
      "ar.L41        -0.2146      0.015    -14.312      0.000      -0.244      -0.185\n",
      "ar.L42        -0.2351      0.014    -17.075      0.000      -0.262      -0.208\n",
      "ar.L43        -0.2338      0.013    -18.049      0.000      -0.259      -0.208\n",
      "ar.L44        -0.2456      0.012    -19.822      0.000      -0.270      -0.221\n",
      "ar.L45        -0.2653      0.012    -22.274      0.000      -0.289      -0.242\n",
      "ar.L46        -0.2599      0.011    -24.562      0.000      -0.281      -0.239\n",
      "ar.L47        -0.1616      0.009    -17.287      0.000      -0.180      -0.143\n",
      "ar.L48        -0.0063      0.008     -0.769      0.442      -0.022       0.010\n",
      "sigma2         0.1629      0.002    100.476      0.000       0.160       0.166\n",
      "===================================================================================\n",
      "Ljung-Box (L1) (Q):                   0.00   Jarque-Bera (JB):              5054.42\n",
      "Prob(Q):                              0.98   Prob(JB):                         0.00\n",
      "Heteroskedasticity (H):               1.24   Skew:                             0.70\n",
      "Prob(H) (two-sided):                  0.00   Kurtosis:                         6.45\n",
      "===================================================================================\n",
      "\n",
      "Warnings:\n",
      "[1] Covariance matrix calculated using the outer product of gradients (complex-step).\n"
     ]
    }
   ],
   "source": [
    "aic_array, mse_array, optimal_order, forecast = tune_arima_hyperparams(data=data_2021['CaseID_norm'].values, \\\n",
    "                                                                       forecast_length=len(data_2022)-1, \\\n",
    "                                                                       p=48, \\\n",
    "                                                                       d=2)"
   ]
  },
  {
   "cell_type": "code",
   "execution_count": 257,
   "id": "44c95f20",
   "metadata": {},
   "outputs": [],
   "source": [
    "curr_scaler = scaler_dict['scaler'][np.argmax(np.unique(full_hourly_count['Year'].values)==2021)]\n",
    "forecast_unnorm = curr_scaler.inverse_transform(forecast.reshape(-1,1)).reshape(-1)"
   ]
  },
  {
   "cell_type": "code",
   "execution_count": 258,
   "id": "9c26eff8",
   "metadata": {},
   "outputs": [
    {
     "data": {
      "image/png": "[encoded data removed]",
      "text/plain": [
       "<Figure size 432x288 with 1 Axes>"
      ]
     },
     "metadata": {
      "needs_background": "light"
     },
     "output_type": "display_data"
    }
   ],
   "source": [
    "plt.plot(data_2021['CaseID'].values, c='b')\n",
    "plt.plot(forecast_unnorm, c='r')\n",
    "plt.title(\"Forecast vs. actual, 2022\")\n",
    "plt.xlabel(\"Hours (2022)\")\n",
    "plt.ylabel(\"Call volume\")\n",
    "plt.savefig(\"figures/Forecast_2022\", dpi=300)\n",
    "plt.show();"
   ]
  },
  {
   "cell_type": "code",
   "execution_count": 259,
   "id": "74699d0e",
   "metadata": {},
   "outputs": [
    {
     "data": {
      "image/png": "[encoded data removed]",
      "text/plain": [
       "<Figure size 432x288 with 1 Axes>"
      ]
     },
     "metadata": {
      "needs_background": "light"
     },
     "output_type": "display_data"
    }
   ],
   "source": [
    "plt.plot(aic_array)\n",
    "plt.plot([], c='y', label='AIC, d=2')\n",
    "plt.plot([], c='b', label='AIC, d=1')\n",
    "plt.xlabel(\"Number of lagged observations, p\")\n",
    "plt.ylabel(\"AIC\")\n",
    "plt.title(\"Tuning hyper parameters p and d\")\n",
    "plt.legend()\n",
    "plt.savefig('figures/ARIMA_AIC', dpi=300)\n",
    "plt.show();"
   ]
  },
  {
   "cell_type": "code",
   "execution_count": 345,
   "id": "cf7e797c",
   "metadata": {},
   "outputs": [
    {
     "data": {
      "image/png": "[encoded data removed]",
      "text/plain": [
       "<Figure size 432x288 with 1 Axes>"
      ]
     },
     "metadata": {
      "needs_background": "light"
     },
     "output_type": "display_data"
    }
   ],
   "source": [
    "plt.plot(mse_array)\n",
    "plt.plot([], c='y', label='MSE, d=2')\n",
    "plt.plot([], c='b', label='MSE, d=1')\n",
    "plt.xlabel(\"Number of lagged observations, p\")\n",
    "plt.ylabel(\"MSE\")\n",
    "plt.title(\"Tuning hyper parameters p and d\")\n",
    "plt.legend()\n",
    "plt.savefig('figures/ARIMA_RMSE', dpi=300)\n",
    "plt.show();"
   ]
  },
  {
   "cell_type": "code",
   "execution_count": 261,
   "id": "aa7b7436",
   "metadata": {},
   "outputs": [
    {
     "name": "stdout",
     "output_type": "stream",
     "text": [
      "Test RMSE: 16.917\n"
     ]
    }
   ],
   "source": [
    "rmse = np.sqrt(mean_squared_error(forecast_unnorm, data_2022['CaseID']))\n",
    "print('Test RMSE: %.3f' % rmse)"
   ]
  },
  {
   "cell_type": "code",
   "execution_count": 262,
   "id": "b03791a7",
   "metadata": {},
   "outputs": [
    {
     "name": "stdout",
     "output_type": "stream",
     "text": [
      "Test R^2: 0.608\n"
     ]
    }
   ],
   "source": [
    "r2 = r2_score(forecast_unnorm, data_2022['CaseID'])\n",
    "print('Test R^2: %.3f' % r2)"
   ]
  },
  {
   "cell_type": "code",
   "execution_count": 263,
   "id": "7880a945",
   "metadata": {},
   "outputs": [
    {
     "data": {
      "text/plain": [
       "218.02974212791744"
      ]
     },
     "execution_count": 263,
     "metadata": {},
     "output_type": "execute_result"
    }
   ],
   "source": [
    "np.max(np.abs((forecast_unnorm - data_2022['CaseID'].values)))"
   ]
  },
  {
   "cell_type": "code",
   "execution_count": 264,
   "id": "29485358",
   "metadata": {},
   "outputs": [
    {
     "data": {
      "text/plain": [
       "<AxesSubplot:>"
      ]
     },
     "execution_count": 264,
     "metadata": {},
     "output_type": "execute_result"
    },
    {
     "data": {
      "image/png": "[encoded data removed]",
      "text/plain": [
       "<Figure size 432x288 with 1 Axes>"
      ]
     },
     "metadata": {
      "needs_background": "light"
     },
     "output_type": "display_data"
    }
   ],
   "source": [
    "residuals = pd.DataFrame(model_fit.resid)\n",
    "residuals.plot()"
   ]
  },
  {
   "cell_type": "code",
   "execution_count": 265,
   "id": "8c8c458b",
   "metadata": {},
   "outputs": [
    {
     "data": {
      "text/plain": [
       "<AxesSubplot:ylabel='Density'>"
      ]
     },
     "execution_count": 265,
     "metadata": {},
     "output_type": "execute_result"
    },
    {
     "data": {
      "image/png": "[encoded data removed]",
      "text/plain": [
       "<Figure size 432x288 with 1 Axes>"
      ]
     },
     "metadata": {
      "needs_background": "light"
     },
     "output_type": "display_data"
    }
   ],
   "source": [
    "residuals.plot(kind='kde')"
   ]
  },
  {
   "cell_type": "code",
   "execution_count": 266,
   "id": "4c3fa857",
   "metadata": {},
   "outputs": [
    {
     "data": {
      "text/html": [
       "<div>\n",
       "<style scoped>\n",
       "    .dataframe tbody tr th:only-of-type {\n",
       "        vertical-align: middle;\n",
       "    }\n",
       "\n",
       "    .dataframe tbody tr th {\n",
       "        vertical-align: top;\n",
       "    }\n",
       "\n",
       "    .dataframe thead th {\n",
       "        text-align: right;\n",
       "    }\n",
       "</style>\n",
       "<table border=\"1\" class=\"dataframe\">\n",
       "  <thead>\n",
       "    <tr style=\"text-align: right;\">\n",
       "      <th></th>\n",
       "      <th>0</th>\n",
       "    </tr>\n",
       "  </thead>\n",
       "  <tbody>\n",
       "    <tr>\n",
       "      <th>count</th>\n",
       "      <td>8760.000000</td>\n",
       "    </tr>\n",
       "    <tr>\n",
       "      <th>mean</th>\n",
       "      <td>0.026359</td>\n",
       "    </tr>\n",
       "    <tr>\n",
       "      <th>std</th>\n",
       "      <td>30.587380</td>\n",
       "    </tr>\n",
       "    <tr>\n",
       "      <th>min</th>\n",
       "      <td>-274.220338</td>\n",
       "    </tr>\n",
       "    <tr>\n",
       "      <th>25%</th>\n",
       "      <td>-12.927860</td>\n",
       "    </tr>\n",
       "    <tr>\n",
       "      <th>50%</th>\n",
       "      <td>-2.203930</td>\n",
       "    </tr>\n",
       "    <tr>\n",
       "      <th>75%</th>\n",
       "      <td>8.440251</td>\n",
       "    </tr>\n",
       "    <tr>\n",
       "      <th>max</th>\n",
       "      <td>1273.656720</td>\n",
       "    </tr>\n",
       "  </tbody>\n",
       "</table>\n",
       "</div>"
      ],
      "text/plain": [
       "                 0\n",
       "count  8760.000000\n",
       "mean      0.026359\n",
       "std      30.587380\n",
       "min    -274.220338\n",
       "25%     -12.927860\n",
       "50%      -2.203930\n",
       "75%       8.440251\n",
       "max    1273.656720"
      ]
     },
     "execution_count": 266,
     "metadata": {},
     "output_type": "execute_result"
    }
   ],
   "source": [
    "residuals.describe()"
   ]
  },
  {
   "cell_type": "markdown",
   "id": "8d0417f3",
   "metadata": {},
   "source": [
    "### Do it for all years"
   ]
  },
  {
   "cell_type": "code",
   "execution_count": 285,
   "id": "cdcfb715",
   "metadata": {},
   "outputs": [
    {
     "name": "stdout",
     "output_type": "stream",
     "text": [
      "2009\n",
      "Test RMSE: 4.602\n",
      "Test R^2: 0.461\n",
      "2010\n",
      "Test RMSE: 5.314\n",
      "Test R^2: 0.459\n",
      "2011\n",
      "Test RMSE: 5.204\n",
      "Test R^2: 0.489\n",
      "2012\n",
      "Test RMSE: 6.452\n",
      "Test R^2: 0.435\n",
      "2013\n",
      "Test RMSE: 7.956\n",
      "Test R^2: 0.480\n",
      "2014\n",
      "Test RMSE: 8.310\n",
      "Test R^2: 0.560\n",
      "2015\n",
      "Test RMSE: 13.324\n",
      "Test R^2: 0.459\n",
      "2016\n",
      "Test RMSE: 14.112\n",
      "Test R^2: 0.548\n",
      "2017\n"
     ]
    },
    {
     "name": "stderr",
     "output_type": "stream",
     "text": [
      "/Users/jaredschober/opt/anaconda3/lib/python3.9/site-packages/statsmodels/base/model.py:604: ConvergenceWarning: Maximum Likelihood optimization failed to converge. Check mle_retvals\n",
      "  warnings.warn(\"Maximum Likelihood optimization failed to \"\n"
     ]
    },
    {
     "name": "stdout",
     "output_type": "stream",
     "text": [
      "Test RMSE: 14.845\n",
      "Test R^2: 0.623\n",
      "2018\n",
      "Test RMSE: 15.255\n",
      "Test R^2: 0.681\n",
      "2019\n",
      "Test RMSE: 16.480\n",
      "Test R^2: 0.686\n",
      "2020\n"
     ]
    },
    {
     "name": "stderr",
     "output_type": "stream",
     "text": [
      "/Users/jaredschober/opt/anaconda3/lib/python3.9/site-packages/statsmodels/base/model.py:604: ConvergenceWarning: Maximum Likelihood optimization failed to converge. Check mle_retvals\n",
      "  warnings.warn(\"Maximum Likelihood optimization failed to \"\n"
     ]
    },
    {
     "name": "stdout",
     "output_type": "stream",
     "text": [
      "Test RMSE: 19.020\n",
      "Test R^2: 0.659\n",
      "2021\n",
      "Test RMSE: 16.917\n",
      "Test R^2: 0.727\n"
     ]
    }
   ],
   "source": [
    "# Tuning all years with normalization and outlier clipping\n",
    "# This code takes 1-1.5 hours to run if I include hyperparameter tuning\n",
    "# Commenting that out and just using the optimal order, because when I've run it, there's no difference across models\n",
    "\n",
    "all_years = np.unique(full_hourly_count['Year'].values)\n",
    "full_forecast = np.array([])\n",
    "orders = []\n",
    "rmse_array = []\n",
    "r2_array = []\n",
    "for i in range(len(all_years)-1):\n",
    "    year = all_years[i]\n",
    "    print(year)\n",
    "    next_year = all_years[i+1]\n",
    "    current_year_data = full_hourly_count[full_hourly_count['Year']==year]['CaseID_norm'].values\n",
    "    \n",
    "    next_year_length = len(full_hourly_count[full_hourly_count['Year']==next_year])\n",
    "    next_year_data = full_hourly_count[full_hourly_count['Year']==next_year]['CaseID'].values\n",
    "    \n",
    "    model = ARIMA(current_year_data, order=optimal_order)\n",
    "    model_fit = model.fit()\n",
    "#     print(model_fit.summary())\n",
    "    forecast = model_fit.predict(end=next_year_length-1)\n",
    "    \n",
    "    \n",
    "#     aic_array, mse_array, optimal_order, forecast = tune_arima_hyperparams(data=current_year_data, forecast_length=next_year_length-1, p=24, d=2)\n",
    "\n",
    "    \n",
    "#     aic_array, mse_array, optimal_order, forecast = tune_arima_hyperparams(data=clipped_current_year_data, forecast_length=next_year_length-1, p=24, d=2)\n",
    "    \n",
    "    # Need to select right scaler\n",
    "    \n",
    "    curr_scaler = scaler_dict['scaler'][np.argmax(np.unique(full_hourly_count['Year'].values)==year)]\n",
    "    forecast_unnorm = curr_scaler.inverse_transform(forecast.reshape(-1,1)).reshape(-1)\n",
    "    rmse = np.sqrt(mean_squared_error(next_year_data, forecast_unnorm))\n",
    "    print('Test RMSE: %.3f' % rmse)\n",
    "    r2 = r2_score(next_year_data, forecast_unnorm)\n",
    "    print('Test R^2: %.3f' % r2)\n",
    "    orders.append(optimal_order)\n",
    "    rmse_array.append(rmse)\n",
    "    r2_array.append(r2)\n",
    "    full_forecast = np.concatenate([full_forecast, forecast_unnorm])"
   ]
  },
  {
   "cell_type": "code",
   "execution_count": 340,
   "id": "4996dd8a",
   "metadata": {},
   "outputs": [
    {
     "data": {
      "image/png": "[encoded data removed]",
      "text/plain": [
       "<Figure size 432x288 with 1 Axes>"
      ]
     },
     "metadata": {
      "needs_background": "light"
     },
     "output_type": "display_data"
    }
   ],
   "source": [
    "# Calculate and plot average RMSE across models \n",
    "plt.plot(rmse_array, label='RMSE')\n",
    "plt.xlabel(\"Model\")\n",
    "plt.ylabel(\"RMSE\")\n",
    "plt.title(\"RMSE by yearly ARIMA model\")\n",
    "average_rmse = np.mean(rmse_array)\n",
    "plt.hlines(average_rmse, xmin=0, xmax=13, colors='r', label='Average RMSE: %.2f' % average_rmse)\n",
    "plt.legend()\n",
    "plt.savefig(\"figures/ARIMA_model_RMSE\", dpi=300)\n",
    "plt.show();"
   ]
  },
  {
   "cell_type": "code",
   "execution_count": 341,
   "id": "6035cace",
   "metadata": {},
   "outputs": [
    {
     "data": {
      "image/png": "[encoded data removed]",
      "text/plain": [
       "<Figure size 432x288 with 1 Axes>"
      ]
     },
     "metadata": {
      "needs_background": "light"
     },
     "output_type": "display_data"
    }
   ],
   "source": [
    "# Calculate and plot average R^2 across models \n",
    "plt.plot(r2_array, label='R^2')\n",
    "plt.xlabel(\"Model\")\n",
    "plt.ylabel(\"R^2\")\n",
    "plt.title(\"R^2 by yearly ARIMA model\")\n",
    "average_r2 = np.mean(r2_array)\n",
    "plt.hlines(average_r2, xmin=0, xmax=13, colors='r', label='Average R^2: %.2f' % average_r2)\n",
    "plt.legend()\n",
    "plt.show();"
   ]
  },
  {
   "cell_type": "code",
   "execution_count": 342,
   "id": "1a09aa39",
   "metadata": {},
   "outputs": [
    {
     "name": "stdout",
     "output_type": "stream",
     "text": [
      "161.37652546254927\n"
     ]
    }
   ],
   "source": [
    "# Calculate average max residual across models\n",
    "max_resid_array = []\n",
    "count = len(full_hourly_count[full_hourly_count['Year']==2009])\n",
    "for i in range(len(np.unique(full_hourly_count['Year']))-2):\n",
    "    increment = len(full_hourly_count[full_hourly_count['Year']==np.unique(full_hourly_count['Year'])[i+1]])\n",
    "    curr_data = full_hourly_count.iloc[count:count+increment]['CaseID'].values\n",
    "    max_resid = np.max(np.abs(curr_data - full_forecast[count:count+increment]))\n",
    "    max_resid_array.append(max_resid)\n",
    "    count += increment\n",
    "    \n",
    "print(np.mean(max_resid_array))"
   ]
  },
  {
   "cell_type": "code",
   "execution_count": 347,
   "id": "4f819d37",
   "metadata": {},
   "outputs": [
    {
     "data": {
      "image/png": "[encoded data removed]",
      "text/plain": [
       "<Figure size 864x576 with 2 Axes>"
      ]
     },
     "metadata": {
      "needs_background": "light"
     },
     "output_type": "display_data"
    }
   ],
   "source": [
    "fig, ax = plt.subplots(1,2, figsize=(12, 8))\n",
    "ax[0].plot(full_forecast)\n",
    "ax[0].set_title(\"Forecasted call volume\")\n",
    "ax[1].plot(full_hourly_count['CaseID'].values)\n",
    "ax[1].set_title(\"Actual call volume\")\n",
    "fig.supxlabel(\"Hours (2008-2022)\")\n",
    "fig.supylabel(\"Hourly call volume\")\n",
    "ax[0].set_ylim(0,450)\n",
    "ax[1].set_ylim(0,450)\n",
    "plt.tight_layout()\n",
    "plt.savefig('figures/ARIMA_forecast_vs_actual', dpi=300)\n",
    "plt.show();"
   ]
  },
  {
   "cell_type": "code",
   "execution_count": 176,
   "id": "a83180e9",
   "metadata": {},
   "outputs": [
    {
     "name": "stdout",
     "output_type": "stream",
     "text": [
      "2008\n",
      "(24, 1, 0)\n",
      "Test RMSE: 5.412\n",
      "2009\n",
      "(24, 1, 0)\n",
      "Test RMSE: 4.756\n",
      "2010\n",
      "(24, 1, 0)\n",
      "Test RMSE: 5.313\n",
      "2011\n",
      "(24, 1, 0)\n",
      "Test RMSE: 5.350\n",
      "2012\n",
      "(24, 1, 0)\n",
      "Test RMSE: 6.558\n",
      "2013\n",
      "(24, 1, 0)\n",
      "Test RMSE: 7.990\n",
      "2014\n",
      "(24, 1, 0)\n",
      "Test RMSE: 8.463\n",
      "2015\n",
      "(24, 1, 0)\n",
      "Test RMSE: 13.208\n",
      "2016\n",
      "(24, 1, 0)\n",
      "Test RMSE: 14.384\n",
      "2017\n",
      "(24, 1, 0)\n",
      "Test RMSE: 15.025\n",
      "2018\n",
      "(24, 1, 0)\n",
      "Test RMSE: 15.766\n",
      "2019\n",
      "(24, 1, 0)\n",
      "Test RMSE: 16.933\n",
      "2020\n",
      "(24, 1, 0)\n",
      "Test RMSE: 19.822\n",
      "2021\n",
      "(24, 1, 0)\n",
      "Test RMSE: 18.367\n"
     ]
    }
   ],
   "source": [
    "# # Tuning all years without normalization - TO BE DELETED\n",
    "\n",
    "# all_years = np.unique(full_hourly_count['Year'].values)\n",
    "# full_forecast = np.array([])\n",
    "# orders = []\n",
    "# rmse_array = []\n",
    "# for i in range(len(all_years)-2):\n",
    "#     year = all_years[i]\n",
    "#     print(year)\n",
    "#     next_year = all_years[i+1]\n",
    "#     current_year_data = full_hourly_count[full_hourly_count['Year']==year]['CaseID'].values\n",
    "    \n",
    "#     # Need to normalize the data here\n",
    "    \n",
    "#     next_year_length = len(full_hourly_count[full_hourly_count['Year']==next_year])\n",
    "#     next_year_data = full_hourly_count[full_hourly_count['Year']==next_year]['CaseID'].values\n",
    "#     aic_array, mse_array, optimal_order, forecast = tune_arima_hyperparams(data=current_year_data, forecast_length=next_year_length-1, p=24, d=2)\n",
    "    \n",
    "#     forecast_unnorm = scaler.inverse_transform(forecast.reshape(-1,1)).reshape(-1)\n",
    "\n",
    "#     rmse = np.sqrt(mean_squared_error(forecast_unnorm, next_year_data))\n",
    "#     print('Test RMSE: %.3f' % rmse)\n",
    "#     orders.append(optimal_order)\n",
    "#     rmse_array.append(rmse)\n",
    "#     full_forecast = np.concatenate([full_forecast, forecast])"
   ]
  },
  {
   "cell_type": "markdown",
   "id": "de1126b1",
   "metadata": {},
   "source": [
    "### Add zip code level analysis here?"
   ]
  },
  {
   "cell_type": "code",
   "execution_count": 348,
   "id": "d80ec936",
   "metadata": {},
   "outputs": [],
   "source": [
    "#TBD"
   ]
  },
  {
   "cell_type": "markdown",
   "id": "d43a062d",
   "metadata": {},
   "source": [
    "# APPENDIX"
   ]
  },
  {
   "cell_type": "code",
   "execution_count": 3,
   "id": "8dd53d5f",
   "metadata": {},
   "outputs": [],
   "source": [
    "# Probably can remove this until I start the actual ARIMA analysis"
   ]
  },
  {
   "cell_type": "code",
   "execution_count": 49,
   "id": "9798c5f5",
   "metadata": {},
   "outputs": [],
   "source": [
    "# path = \"data/311_Cases.csv\""
   ]
  },
  {
   "cell_type": "code",
   "execution_count": 50,
   "id": "f68c0247",
   "metadata": {},
   "outputs": [],
   "source": [
    "# df = pd.read_csv(path)"
   ]
  },
  {
   "cell_type": "code",
   "execution_count": 51,
   "id": "0694041b",
   "metadata": {},
   "outputs": [],
   "source": [
    "# ssc_df = df[df['Category']=='Street and Sidewalk Cleaning'].copy()"
   ]
  },
  {
   "cell_type": "code",
   "execution_count": 52,
   "id": "2f083200",
   "metadata": {},
   "outputs": [],
   "source": [
    "# ssc_df['Opened'] = pd.to_datetime(ssc_df['Opened'])\n",
    "# ssc_df['hour'] = ssc_df['Opened'].dt.hour\n",
    "# ssc_df['minute'] = ssc_df['Opened'].dt.minute\n",
    "# ssc_df['day'] = ssc_df['Opened'].dt.day\n",
    "# ssc_df['year'] = ssc_df['Opened'].dt.year\n",
    "# ssc_df['Month'] = ssc_df['Opened'].dt.month"
   ]
  },
  {
   "cell_type": "code",
   "execution_count": 53,
   "id": "53139341",
   "metadata": {},
   "outputs": [],
   "source": [
    "# Should read this to CSV so I don't have to do it again"
   ]
  },
  {
   "cell_type": "code",
   "execution_count": 54,
   "id": "74a1cd19",
   "metadata": {},
   "outputs": [],
   "source": [
    "# ssc_df['year'].value_counts().sort_index().plot()\n",
    "# plt.title(\"Yearly street and sidewalk cleaning calls\")\n",
    "# plt.xlabel(\"Year\")\n",
    "# plt.ylabel(\"Call volume\")\n",
    "# plt.show()"
   ]
  },
  {
   "cell_type": "code",
   "execution_count": 55,
   "id": "bee4a779",
   "metadata": {},
   "outputs": [],
   "source": [
    "# ssc_df['Month'].value_counts().sort_index().plot()\n",
    "# plt.title(\"Monthly street and sidewalk cleaning calls\")\n",
    "# plt.xlabel(\"Month\")\n",
    "# plt.ylabel(\"Call volume\")\n",
    "# plt.show()"
   ]
  },
  {
   "cell_type": "code",
   "execution_count": 56,
   "id": "b983ab4f",
   "metadata": {},
   "outputs": [],
   "source": [
    "# df_2021 = ssc_df[ssc_df['year']==2021]\n",
    "# df_2021['Month'].value_counts().sort_index().plot()\n",
    "# plt.title(\"2021 monthly street and sidewalk cleaning calls\")\n",
    "# plt.xlabel(\"Month\")\n",
    "# plt.ylabel(\"Call volume\")\n",
    "# plt.show()"
   ]
  },
  {
   "cell_type": "code",
   "execution_count": 57,
   "id": "21de45f2",
   "metadata": {},
   "outputs": [],
   "source": [
    "# df_2022 = ssc_df[ssc_df['year']==2022]\n",
    "# df_2022['Month'].value_counts().sort_index().plot()\n",
    "# plt.title(\"2022 monthly street and sidewalk cleaning calls\")\n",
    "# plt.xlabel(\"Month\")\n",
    "# plt.ylabel(\"Call volume\")\n",
    "# plt.show()"
   ]
  },
  {
   "cell_type": "code",
   "execution_count": 58,
   "id": "195410b6",
   "metadata": {},
   "outputs": [],
   "source": [
    "# def hour_rounder(t):\n",
    "#     # Rounds to nearest hour by adding a timedelta hour if minute >= 30\n",
    "#     return (t.replace(second=0, microsecond=0, minute=0, hour=t.hour)\n",
    "#                +timedelta(hours=t.minute//30))"
   ]
  },
  {
   "cell_type": "code",
   "execution_count": 59,
   "id": "c2900e40",
   "metadata": {},
   "outputs": [],
   "source": [
    "# ssc_df['RoundTime'] = ssc_df['Opened'].apply(hour_rounder)"
   ]
  },
  {
   "cell_type": "code",
   "execution_count": 60,
   "id": "1c138213",
   "metadata": {},
   "outputs": [],
   "source": [
    "# hourly_count = ssc_df.groupby('RoundTime')['CaseID'].count()"
   ]
  },
  {
   "cell_type": "code",
   "execution_count": 61,
   "id": "2b583b3d",
   "metadata": {},
   "outputs": [],
   "source": [
    "# hourly_count"
   ]
  },
  {
   "cell_type": "code",
   "execution_count": 62,
   "id": "3391141f",
   "metadata": {
    "scrolled": true
   },
   "outputs": [],
   "source": [
    "# first_date = np.min(hourly_count.index)\n",
    "# last_date = np.max(hourly_count.index)\n",
    "# # This works for hour\n",
    "# # for i in range(24):\n",
    "# #     print(\"0\"+str(i)+\":00:00\")\n",
    "\n",
    "# # for i in range(10):\n",
    "# #     print(hourly_count.index[0])\n",
    "\n",
    "\n",
    "# curr_hour = hourly_count.index[0].to_pydatetime()\n",
    "# all_hours = []\n",
    "# i = 0\n",
    "# while (curr_hour + timedelta(hours=i)) != (last_date.to_pydatetime() + timedelta(hours=1)):\n",
    "# #     if curr_hour == last_date.to_pydatetime():\n",
    "# #         print(\"Finished\")\n",
    "# #         break\n",
    "#     all_hours.append(curr_hour + timedelta(hours=i))\n",
    "#     i+=1\n",
    "#     if i % 1000 ==0:\n",
    "#         print(i)\n",
    "#     if i>130000:\n",
    "#         break\n",
    "#     if curr_hour == last_date.to_pydatetime():\n",
    "#         print(\"Finished\")\n",
    "#         break\n",
    "\n",
    "# # print(all_hours)\n",
    "\n",
    "\n",
    "\n",
    "# # for i in range(len(hourly_count.index)):    \n",
    "# #     print(hourly_count.index[0].to_pydatetime() + timedelta(hours=i))\n",
    "# #     all_hours.append()\n",
    "# #     pass"
   ]
  },
  {
   "cell_type": "code",
   "execution_count": 63,
   "id": "9aeea831",
   "metadata": {},
   "outputs": [],
   "source": [
    "# all_hours = pd.DataFrame(np.array(all_hours))\n",
    "# all_hours.columns=['Hours']"
   ]
  },
  {
   "cell_type": "code",
   "execution_count": 64,
   "id": "427daa93",
   "metadata": {},
   "outputs": [],
   "source": [
    "# # all_hours\n",
    "# full_hourly_count = pd.merge(all_hours, hourly_count, left_on='Hours', right_on=['RoundTime'], how='outer').fillna(0)\n",
    "# # full_hourly_count = full_hourly_count.set_index('Hours')"
   ]
  },
  {
   "cell_type": "code",
   "execution_count": 65,
   "id": "9f0c748c",
   "metadata": {},
   "outputs": [],
   "source": [
    "# full_hourly_count"
   ]
  },
  {
   "cell_type": "code",
   "execution_count": 66,
   "id": "f90fdb8a",
   "metadata": {},
   "outputs": [],
   "source": [
    "# print(full_hourly_count['Hours'][0])\n",
    "# # full_hourly_count['Year'] = \n",
    "# full_hourly_count['Hours'] = pd.to_datetime(full_hourly_count['Hours'])\n",
    "# full_hourly_count['Year'] = full_hourly_count['Hours'].dt.year\n",
    "# full_hourly_count['Month'] = full_hourly_count['Hours'].dt.month\n",
    "# full_hourly_count['Day'] = full_hourly_count['Hours'].dt.day\n",
    "# full_hourly_count['Hour'] = full_hourly_count['Hours'].dt.hour"
   ]
  },
  {
   "cell_type": "code",
   "execution_count": 67,
   "id": "3e14d0a4",
   "metadata": {},
   "outputs": [],
   "source": [
    "# full_hourly_count['CaseID']"
   ]
  },
  {
   "cell_type": "code",
   "execution_count": 69,
   "id": "30c94ceb",
   "metadata": {},
   "outputs": [],
   "source": [
    "# # Implement train test split here - probably remove this\n",
    "# X = full_hourly_count['CaseID'].values\n",
    "# # Doing an 80/20 split\n",
    "# split = int(len(X) * 0.80)\n",
    "# train, test = X[:split], X[split:]\n",
    "# train_dates, test_dates = full_hourly_count.index[:split], full_hourly_count.index[split:]"
   ]
  },
  {
   "cell_type": "code",
   "execution_count": null,
   "id": "476e9d45",
   "metadata": {},
   "outputs": [],
   "source": [
    "models = []\n",
    "forecasts = []\n",
    "rmses = []\n",
    "for i in range(2022-2008):\n",
    "    print(i)\n",
    "    train = full_hourly_count[full_hourly_count['Year']==(2008+i)]\n",
    "    test = full_hourly_count[full_hourly_count['Year']==(2008+i+1)]\n",
    "    model = ARIMA(train['CaseID'].values, order=(24,1,0))\n",
    "    model_fit = model.fit()\n",
    "#     print(model_fit.summary())\n",
    "    forecast = model_fit.predict(end=len(test['CaseID'])-1)\n",
    "    models.append(model)\n",
    "    forecasts.append(forecast)\n",
    "    rmse = np.sqrt(mean_squared_error(forecast, test['CaseID'].values))\n",
    "    print('Test RMSE: %.3f' % rmse)\n",
    "    rmses.append(rmse)\n",
    "    \n",
    "#     if i>1:\n",
    "#         break"
   ]
  },
  {
   "cell_type": "code",
   "execution_count": null,
   "id": "7c5e9a0e",
   "metadata": {},
   "outputs": [],
   "source": []
  },
  {
   "cell_type": "code",
   "execution_count": null,
   "id": "95898351",
   "metadata": {},
   "outputs": [],
   "source": [
    "# train = full_hourly_count[full_hourly_count['Year']==(2009)]\n",
    "# test = full_hourly_count[full_hourly_count['Year']==(2010)]\n",
    "# full_hourly_count[full_hourly_count['Year']==2009]['CaseID'].values\n",
    "# model = ARIMA(train['CaseID'].values, order=(24,1,0))\n",
    "# model_fit = model.fit()\n",
    "# print(model_fit.summary())\n",
    "# forecast = model_fit.predict(end=len(test['CaseID'])-1)\n",
    "# rmse = np.sqrt(mean_squared_error(forecast, test['CaseID']))\n",
    "# print('Test RMSE: %.3f' % rmse)"
   ]
  },
  {
   "cell_type": "code",
   "execution_count": null,
   "id": "508078c5",
   "metadata": {},
   "outputs": [],
   "source": [
    "plt.plot(rmses)\n",
    "plt.xlabel(\"Model\")\n",
    "plt.ylabel(\"RMSE\")\n",
    "plt.title(\"RMSE values of each model\")\n",
    "plt.show();"
   ]
  },
  {
   "cell_type": "code",
   "execution_count": null,
   "id": "767701f9",
   "metadata": {},
   "outputs": [],
   "source": [
    "full_hourly_count[full_hourly_count['Year']==2009]['CaseID']"
   ]
  },
  {
   "cell_type": "code",
   "execution_count": null,
   "id": "aad7ec54",
   "metadata": {},
   "outputs": [],
   "source": [
    "fig, ax = plt.subplots(1,2, figsize=(12,8))\n",
    "for i in range(len(forecasts)):\n",
    "    ax[0].plot(full_hourly_count[full_hourly_count['Year']==(2008+i+1)]['CaseID'].index, forecasts[i], c='b')\n",
    "    ax[1].plot(full_hourly_count[full_hourly_count['Year']==(2008+i+1)]['CaseID'], \\\n",
    "            c='r')\n",
    "\n",
    "fig.supxlabel(\"Hour\")\n",
    "fig.supylabel(\"Call volume\")\n",
    "fig.suptitle(\"ARIMA model (24,1,0)\")\n",
    "ax[0].set_ylim([0,550])\n",
    "ax[0].set_title(\"Forecast call volume\")\n",
    "ax[1].set_ylim([0,550])\n",
    "ax[1].set_title(\"Actual call volume\")\n",
    "plt.tight_layout();"
   ]
  },
  {
   "cell_type": "code",
   "execution_count": null,
   "id": "2f96f010",
   "metadata": {},
   "outputs": [],
   "source": [
    "test = []\n",
    "# for forecast in forecasts:\n",
    "#     test.append(forecast.values)\n",
    "#     print(forecast.shape)\n",
    "#     print(forecast.values.reshape(1,-1)[0])\n",
    "#     test.append(forecast.values.reshape(1,-1)[0])\n",
    "    \n",
    "# pd.vstack(forecasts)\n",
    "\n",
    "plt.plot(pd.concat([forecast for forecast in forecasts], axis=0))"
   ]
  },
  {
   "cell_type": "code",
   "execution_count": null,
   "id": "5aca00ea",
   "metadata": {},
   "outputs": [],
   "source": [
    "plt.plot(rmses)"
   ]
  },
  {
   "cell_type": "markdown",
   "id": "33a2cfd7",
   "metadata": {},
   "source": [
    "#### ARIMA (24,1,0)"
   ]
  },
  {
   "cell_type": "code",
   "execution_count": 125,
   "id": "064f207b",
   "metadata": {},
   "outputs": [
    {
     "name": "stdout",
     "output_type": "stream",
     "text": [
      "                               SARIMAX Results                                \n",
      "==============================================================================\n",
      "Dep. Variable:                      y   No. Observations:               103508\n",
      "Model:                ARIMA(24, 1, 0)   Log Likelihood             -355923.110\n",
      "Date:                Thu, 20 Apr 2023   AIC                         711896.221\n",
      "Time:                        10:21:11   BIC                         712134.906\n",
      "Sample:                             0   HQIC                        711968.544\n",
      "                             - 103508                                         \n",
      "Covariance Type:                  opg                                         \n",
      "==============================================================================\n",
      "                 coef    std err          z      P>|z|      [0.025      0.975]\n",
      "------------------------------------------------------------------------------\n",
      "ar.L1         -0.5432      0.001   -653.976      0.000      -0.545      -0.542\n",
      "ar.L2         -0.4553      0.002   -252.635      0.000      -0.459      -0.452\n",
      "ar.L3         -0.4767      0.002   -229.737      0.000      -0.481      -0.473\n",
      "ar.L4         -0.4895      0.002   -232.578      0.000      -0.494      -0.485\n",
      "ar.L5         -0.4873      0.002   -219.206      0.000      -0.492      -0.483\n",
      "ar.L6         -0.4827      0.002   -206.569      0.000      -0.487      -0.478\n",
      "ar.L7         -0.4785      0.002   -199.166      0.000      -0.483      -0.474\n",
      "ar.L8         -0.4726      0.002   -194.932      0.000      -0.477      -0.468\n",
      "ar.L9         -0.4767      0.002   -200.136      0.000      -0.481      -0.472\n",
      "ar.L10        -0.4831      0.002   -197.781      0.000      -0.488      -0.478\n",
      "ar.L11        -0.4979      0.003   -189.943      0.000      -0.503      -0.493\n",
      "ar.L12        -0.5037      0.003   -190.043      0.000      -0.509      -0.499\n",
      "ar.L13        -0.5064      0.003   -195.340      0.000      -0.511      -0.501\n",
      "ar.L14        -0.5088      0.003   -201.389      0.000      -0.514      -0.504\n",
      "ar.L15        -0.4977      0.003   -184.391      0.000      -0.503      -0.492\n",
      "ar.L16        -0.4870      0.003   -175.994      0.000      -0.492      -0.482\n",
      "ar.L17        -0.4826      0.003   -175.409      0.000      -0.488      -0.477\n",
      "ar.L18        -0.4831      0.003   -185.769      0.000      -0.488      -0.478\n",
      "ar.L19        -0.4868      0.002   -195.294      0.000      -0.492      -0.482\n",
      "ar.L20        -0.4799      0.002   -205.311      0.000      -0.484      -0.475\n",
      "ar.L21        -0.4692      0.002   -219.835      0.000      -0.473      -0.465\n",
      "ar.L22        -0.3990      0.002   -222.432      0.000      -0.403      -0.395\n",
      "ar.L23        -0.2039      0.002   -122.631      0.000      -0.207      -0.201\n",
      "ar.L24         0.0255      0.002     15.201      0.000       0.022       0.029\n",
      "sigma2        56.7964      0.049   1163.937      0.000      56.701      56.892\n",
      "===================================================================================\n",
      "Ljung-Box (L1) (Q):                   0.92   Jarque-Bera (JB):          16086180.49\n",
      "Prob(Q):                              0.34   Prob(JB):                         0.00\n",
      "Heteroskedasticity (H):               7.16   Skew:                             2.47\n",
      "Prob(H) (two-sided):                  0.00   Kurtosis:                        63.87\n",
      "===================================================================================\n",
      "\n",
      "Warnings:\n",
      "[1] Covariance matrix calculated using the outer product of gradients (complex-step).\n"
     ]
    }
   ],
   "source": [
    "model = ARIMA(train, order=(24,1,0))\n",
    "model_fit = model.fit()\n",
    "print(model_fit.summary())\n",
    "forecast = model_fit.predict(end=len(test)-1)"
   ]
  },
  {
   "cell_type": "code",
   "execution_count": 144,
   "id": "f83ee426",
   "metadata": {},
   "outputs": [
    {
     "name": "stdout",
     "output_type": "stream",
     "text": [
      "Test RMSE: 41.546\n"
     ]
    }
   ],
   "source": [
    "rmse = np.sqrt(mean_squared_error(forecast, test))\n",
    "print('Test RMSE: %.3f' % rmse)"
   ]
  },
  {
   "cell_type": "code",
   "execution_count": 145,
   "id": "f3c57b7e",
   "metadata": {},
   "outputs": [
    {
     "data": {
      "image/png": "[encoded data removed]",
      "text/plain": [
       "<Figure size 432x288 with 1 Axes>"
      ]
     },
     "metadata": {
      "needs_background": "light"
     },
     "output_type": "display_data"
    }
   ],
   "source": [
    "plt.plot(forecast-test.reshape(-1))\n",
    "plt.show();"
   ]
  },
  {
   "cell_type": "code",
   "execution_count": 146,
   "id": "f0879a72",
   "metadata": {},
   "outputs": [
    {
     "data": {
      "image/png": "[encoded data removed]",
      "text/plain": [
       "<Figure size 432x288 with 1 Axes>"
      ]
     },
     "metadata": {
      "needs_background": "light"
     },
     "output_type": "display_data"
    }
   ],
   "source": [
    "plt.plot(forecast[:100], label='Forecast')\n",
    "plt.plot(test[:100], label='Test data')\n",
    "plt.legend();"
   ]
  },
  {
   "cell_type": "code",
   "execution_count": 147,
   "id": "50d3f494",
   "metadata": {},
   "outputs": [],
   "source": [
    "residuals = pd.DataFrame(model_fit.resid)"
   ]
  },
  {
   "cell_type": "code",
   "execution_count": 148,
   "id": "9253d382",
   "metadata": {},
   "outputs": [
    {
     "data": {
      "text/plain": [
       "<AxesSubplot:>"
      ]
     },
     "execution_count": 148,
     "metadata": {},
     "output_type": "execute_result"
    },
    {
     "data": {
      "image/png": "[encoded data removed]",
      "text/plain": [
       "<Figure size 432x288 with 1 Axes>"
      ]
     },
     "metadata": {
      "needs_background": "light"
     },
     "output_type": "display_data"
    }
   ],
   "source": [
    "residuals.plot()"
   ]
  },
  {
   "cell_type": "code",
   "execution_count": 149,
   "id": "707b86ce",
   "metadata": {},
   "outputs": [
    {
     "data": {
      "text/plain": [
       "<AxesSubplot:ylabel='Density'>"
      ]
     },
     "execution_count": 149,
     "metadata": {},
     "output_type": "execute_result"
    },
    {
     "data": {
      "image/png": "[encoded data removed]",
      "text/plain": [
       "<Figure size 432x288 with 1 Axes>"
      ]
     },
     "metadata": {
      "needs_background": "light"
     },
     "output_type": "display_data"
    }
   ],
   "source": [
    "residuals.plot(kind='kde')"
   ]
  },
  {
   "cell_type": "code",
   "execution_count": 150,
   "id": "ca074dd2",
   "metadata": {
    "scrolled": true
   },
   "outputs": [
    {
     "data": {
      "text/html": [
       "<div>\n",
       "<style scoped>\n",
       "    .dataframe tbody tr th:only-of-type {\n",
       "        vertical-align: middle;\n",
       "    }\n",
       "\n",
       "    .dataframe tbody tr th {\n",
       "        vertical-align: top;\n",
       "    }\n",
       "\n",
       "    .dataframe thead th {\n",
       "        text-align: right;\n",
       "    }\n",
       "</style>\n",
       "<table border=\"1\" class=\"dataframe\">\n",
       "  <thead>\n",
       "    <tr style=\"text-align: right;\">\n",
       "      <th></th>\n",
       "      <th>0</th>\n",
       "    </tr>\n",
       "  </thead>\n",
       "  <tbody>\n",
       "    <tr>\n",
       "      <th>count</th>\n",
       "      <td>103508.000000</td>\n",
       "    </tr>\n",
       "    <tr>\n",
       "      <th>mean</th>\n",
       "      <td>0.001919</td>\n",
       "    </tr>\n",
       "    <tr>\n",
       "      <th>std</th>\n",
       "      <td>7.535875</td>\n",
       "    </tr>\n",
       "    <tr>\n",
       "      <th>min</th>\n",
       "      <td>-145.405127</td>\n",
       "    </tr>\n",
       "    <tr>\n",
       "      <th>25%</th>\n",
       "      <td>-2.860669</td>\n",
       "    </tr>\n",
       "    <tr>\n",
       "      <th>50%</th>\n",
       "      <td>-0.485139</td>\n",
       "    </tr>\n",
       "    <tr>\n",
       "      <th>75%</th>\n",
       "      <td>2.168056</td>\n",
       "    </tr>\n",
       "    <tr>\n",
       "      <th>max</th>\n",
       "      <td>301.727692</td>\n",
       "    </tr>\n",
       "  </tbody>\n",
       "</table>\n",
       "</div>"
      ],
      "text/plain": [
       "                   0\n",
       "count  103508.000000\n",
       "mean        0.001919\n",
       "std         7.535875\n",
       "min      -145.405127\n",
       "25%        -2.860669\n",
       "50%        -0.485139\n",
       "75%         2.168056\n",
       "max       301.727692"
      ]
     },
     "execution_count": 150,
     "metadata": {},
     "output_type": "execute_result"
    }
   ],
   "source": [
    "residuals.describe()"
   ]
  },
  {
   "cell_type": "markdown",
   "id": "1b227309",
   "metadata": {},
   "source": [
    "#### ARIMA (8,1,0)"
   ]
  },
  {
   "cell_type": "code",
   "execution_count": 92,
   "id": "97bd7adb",
   "metadata": {},
   "outputs": [
    {
     "name": "stdout",
     "output_type": "stream",
     "text": [
      "                               SARIMAX Results                                \n",
      "==============================================================================\n",
      "Dep. Variable:                      y   No. Observations:                89855\n",
      "Model:                 ARIMA(8, 1, 0)   Log Likelihood             -339307.747\n",
      "Date:                Wed, 19 Apr 2023   AIC                         678633.493\n",
      "Time:                        11:42:23   BIC                         678718.147\n",
      "Sample:                             0   HQIC                        678659.308\n",
      "                              - 89855                                         \n",
      "Covariance Type:                  opg                                         \n",
      "==============================================================================\n",
      "                 coef    std err          z      P>|z|      [0.025      0.975]\n",
      "------------------------------------------------------------------------------\n",
      "ar.L1         -0.1081      0.001   -112.051      0.000      -0.110      -0.106\n",
      "ar.L2          0.0275      0.002     12.536      0.000       0.023       0.032\n",
      "ar.L3         -0.0160      0.003     -6.348      0.000      -0.021      -0.011\n",
      "ar.L4         -0.0415      0.003    -15.048      0.000      -0.047      -0.036\n",
      "ar.L5         -0.0434      0.003    -14.743      0.000      -0.049      -0.038\n",
      "ar.L6         -0.0453      0.003    -15.516      0.000      -0.051      -0.040\n",
      "ar.L7         -0.0496      0.003    -17.218      0.000      -0.055      -0.044\n",
      "ar.L8         -0.0548      0.003    -18.479      0.000      -0.061      -0.049\n",
      "sigma2       111.5630      0.148    756.105      0.000     111.274     111.852\n",
      "===================================================================================\n",
      "Ljung-Box (L1) (Q):                   1.84   Jarque-Bera (JB):           3645605.15\n",
      "Prob(Q):                              0.17   Prob(JB):                         0.00\n",
      "Heteroskedasticity (H):               7.30   Skew:                             1.04\n",
      "Prob(H) (two-sided):                  0.00   Kurtosis:                        34.14\n",
      "===================================================================================\n",
      "\n",
      "Warnings:\n",
      "[1] Covariance matrix calculated using the outer product of gradients (complex-step).\n"
     ]
    }
   ],
   "source": [
    "model = ARIMA(train, order=(8,1,0))\n",
    "model_fit = model.fit()\n",
    "print(model_fit.summary())\n",
    "forecast = model_fit.predict(end=len(test)-1)"
   ]
  },
  {
   "cell_type": "code",
   "execution_count": 93,
   "id": "3396b19b",
   "metadata": {},
   "outputs": [
    {
     "name": "stdout",
     "output_type": "stream",
     "text": [
      "Test RMSE: 43.259\n"
     ]
    }
   ],
   "source": [
    "rmse = np.sqrt(mean_squared_error(forecast, test))\n",
    "print('Test RMSE: %.3f' % rmse)"
   ]
  },
  {
   "cell_type": "code",
   "execution_count": 94,
   "id": "e35dccc0",
   "metadata": {},
   "outputs": [
    {
     "data": {
      "image/png": "[encoded data removed]",
      "text/plain": [
       "<Figure size 432x288 with 1 Axes>"
      ]
     },
     "metadata": {
      "needs_background": "light"
     },
     "output_type": "display_data"
    }
   ],
   "source": [
    "plt.plot(forecast-test)\n",
    "plt.show();"
   ]
  },
  {
   "cell_type": "code",
   "execution_count": 95,
   "id": "46702c71",
   "metadata": {},
   "outputs": [
    {
     "data": {
      "image/png": "[encoded data removed]",
      "text/plain": [
       "<Figure size 432x288 with 1 Axes>"
      ]
     },
     "metadata": {
      "needs_background": "light"
     },
     "output_type": "display_data"
    }
   ],
   "source": [
    "plt.plot(forecast[:100], label='Forecast')\n",
    "plt.plot(test[:100], label='Test data')\n",
    "plt.legend();"
   ]
  },
  {
   "cell_type": "code",
   "execution_count": 96,
   "id": "e9f2032a",
   "metadata": {},
   "outputs": [],
   "source": [
    "residuals = pd.DataFrame(model_fit.resid)"
   ]
  },
  {
   "cell_type": "code",
   "execution_count": 97,
   "id": "d54a1c95",
   "metadata": {},
   "outputs": [
    {
     "data": {
      "text/plain": [
       "<AxesSubplot:>"
      ]
     },
     "execution_count": 97,
     "metadata": {},
     "output_type": "execute_result"
    },
    {
     "data": {
      "image/png": "[encoded data removed]",
      "text/plain": [
       "<Figure size 432x288 with 1 Axes>"
      ]
     },
     "metadata": {
      "needs_background": "light"
     },
     "output_type": "display_data"
    }
   ],
   "source": [
    "residuals.plot()"
   ]
  },
  {
   "cell_type": "code",
   "execution_count": 98,
   "id": "bbd9c276",
   "metadata": {},
   "outputs": [
    {
     "data": {
      "text/plain": [
       "<AxesSubplot:ylabel='Density'>"
      ]
     },
     "execution_count": 98,
     "metadata": {},
     "output_type": "execute_result"
    },
    {
     "data": {
      "image/png": "[encoded data removed]",
      "text/plain": [
       "<Figure size 432x288 with 1 Axes>"
      ]
     },
     "metadata": {
      "needs_background": "light"
     },
     "output_type": "display_data"
    }
   ],
   "source": [
    "residuals.plot(kind='kde')"
   ]
  },
  {
   "cell_type": "code",
   "execution_count": 99,
   "id": "c67c07c0",
   "metadata": {
    "scrolled": true
   },
   "outputs": [
    {
     "data": {
      "text/html": [
       "<div>\n",
       "<style scoped>\n",
       "    .dataframe tbody tr th:only-of-type {\n",
       "        vertical-align: middle;\n",
       "    }\n",
       "\n",
       "    .dataframe tbody tr th {\n",
       "        vertical-align: top;\n",
       "    }\n",
       "\n",
       "    .dataframe thead th {\n",
       "        text-align: right;\n",
       "    }\n",
       "</style>\n",
       "<table border=\"1\" class=\"dataframe\">\n",
       "  <thead>\n",
       "    <tr style=\"text-align: right;\">\n",
       "      <th></th>\n",
       "      <th>0</th>\n",
       "    </tr>\n",
       "  </thead>\n",
       "  <tbody>\n",
       "    <tr>\n",
       "      <th>count</th>\n",
       "      <td>89855.000000</td>\n",
       "    </tr>\n",
       "    <tr>\n",
       "      <th>mean</th>\n",
       "      <td>0.000318</td>\n",
       "    </tr>\n",
       "    <tr>\n",
       "      <th>std</th>\n",
       "      <td>10.562113</td>\n",
       "    </tr>\n",
       "    <tr>\n",
       "      <th>min</th>\n",
       "      <td>-275.193858</td>\n",
       "    </tr>\n",
       "    <tr>\n",
       "      <th>25%</th>\n",
       "      <td>-4.410721</td>\n",
       "    </tr>\n",
       "    <tr>\n",
       "      <th>50%</th>\n",
       "      <td>-0.618449</td>\n",
       "    </tr>\n",
       "    <tr>\n",
       "      <th>75%</th>\n",
       "      <td>3.646356</td>\n",
       "    </tr>\n",
       "    <tr>\n",
       "      <th>max</th>\n",
       "      <td>301.936924</td>\n",
       "    </tr>\n",
       "  </tbody>\n",
       "</table>\n",
       "</div>"
      ],
      "text/plain": [
       "                  0\n",
       "count  89855.000000\n",
       "mean       0.000318\n",
       "std       10.562113\n",
       "min     -275.193858\n",
       "25%       -4.410721\n",
       "50%       -0.618449\n",
       "75%        3.646356\n",
       "max      301.936924"
      ]
     },
     "execution_count": 99,
     "metadata": {},
     "output_type": "execute_result"
    }
   ],
   "source": [
    "residuals.describe()"
   ]
  },
  {
   "cell_type": "markdown",
   "id": "78e5e2d6",
   "metadata": {},
   "source": [
    "#### Trying 1"
   ]
  },
  {
   "cell_type": "code",
   "execution_count": 100,
   "id": "867844cf",
   "metadata": {},
   "outputs": [
    {
     "name": "stdout",
     "output_type": "stream",
     "text": [
      "                               SARIMAX Results                                \n",
      "==============================================================================\n",
      "Dep. Variable:                      y   No. Observations:                89855\n",
      "Model:                 ARIMA(1, 1, 0)   Log Likelihood             -339794.694\n",
      "Date:                Wed, 19 Apr 2023   AIC                         679593.387\n",
      "Time:                        11:43:16   BIC                         679612.199\n",
      "Sample:                             0   HQIC                        679599.124\n",
      "                              - 89855                                         \n",
      "Covariance Type:                  opg                                         \n",
      "==============================================================================\n",
      "                 coef    std err          z      P>|z|      [0.025      0.975]\n",
      "------------------------------------------------------------------------------\n",
      "ar.L1         -0.1043      0.001   -108.054      0.000      -0.106      -0.102\n",
      "sigma2       112.7752      0.149    757.972      0.000     112.484     113.067\n",
      "===================================================================================\n",
      "Ljung-Box (L1) (Q):                   1.12   Jarque-Bera (JB):           3574875.00\n",
      "Prob(Q):                              0.29   Prob(JB):                         0.00\n",
      "Heteroskedasticity (H):               7.32   Skew:                             0.96\n",
      "Prob(H) (two-sided):                  0.00   Kurtosis:                        33.84\n",
      "===================================================================================\n",
      "\n",
      "Warnings:\n",
      "[1] Covariance matrix calculated using the outer product of gradients (complex-step).\n",
      "Test RMSE: 43.279\n"
     ]
    },
    {
     "data": {
      "image/png": "[encoded data removed]",
      "text/plain": [
       "<Figure size 432x288 with 1 Axes>"
      ]
     },
     "metadata": {
      "needs_background": "light"
     },
     "output_type": "display_data"
    }
   ],
   "source": [
    "model = ARIMA(train, order=(1,1,0))\n",
    "model_fit = model.fit()\n",
    "print(model_fit.summary())\n",
    "forecast = model_fit.predict(end=len(test)-1)\n",
    "rmse = np.sqrt(mean_squared_error(forecast, test))\n",
    "print('Test RMSE: %.3f' % rmse)\n",
    "plt.plot(forecast-test)\n",
    "plt.show();"
   ]
  },
  {
   "cell_type": "code",
   "execution_count": 101,
   "id": "882b57a0",
   "metadata": {},
   "outputs": [
    {
     "data": {
      "image/png": "[encoded data removed]",
      "text/plain": [
       "<Figure size 432x288 with 1 Axes>"
      ]
     },
     "metadata": {
      "needs_background": "light"
     },
     "output_type": "display_data"
    }
   ],
   "source": [
    "plt.plot(forecast[:100], label='Forecast')\n",
    "plt.plot(test[:100], label='Test data')\n",
    "plt.legend();"
   ]
  },
  {
   "cell_type": "code",
   "execution_count": 102,
   "id": "8a2e4713",
   "metadata": {},
   "outputs": [],
   "source": [
    "residuals = pd.DataFrame(model_fit.resid)"
   ]
  },
  {
   "cell_type": "code",
   "execution_count": 103,
   "id": "1104a0bc",
   "metadata": {},
   "outputs": [
    {
     "data": {
      "text/plain": [
       "<AxesSubplot:>"
      ]
     },
     "execution_count": 103,
     "metadata": {},
     "output_type": "execute_result"
    },
    {
     "data": {
      "image/png": "[encoded data removed]",
      "text/plain": [
       "<Figure size 432x288 with 1 Axes>"
      ]
     },
     "metadata": {
      "needs_background": "light"
     },
     "output_type": "display_data"
    }
   ],
   "source": [
    "residuals.plot()"
   ]
  },
  {
   "cell_type": "code",
   "execution_count": 104,
   "id": "a8eb2330",
   "metadata": {},
   "outputs": [
    {
     "data": {
      "text/plain": [
       "<AxesSubplot:ylabel='Density'>"
      ]
     },
     "execution_count": 104,
     "metadata": {},
     "output_type": "execute_result"
    },
    {
     "data": {
      "image/png": "[encoded data removed]",
      "text/plain": [
       "<Figure size 432x288 with 1 Axes>"
      ]
     },
     "metadata": {
      "needs_background": "light"
     },
     "output_type": "display_data"
    }
   ],
   "source": [
    "residuals.plot(kind='kde')"
   ]
  },
  {
   "cell_type": "code",
   "execution_count": 105,
   "id": "638dfd79",
   "metadata": {
    "scrolled": false
   },
   "outputs": [
    {
     "data": {
      "text/html": [
       "<div>\n",
       "<style scoped>\n",
       "    .dataframe tbody tr th:only-of-type {\n",
       "        vertical-align: middle;\n",
       "    }\n",
       "\n",
       "    .dataframe tbody tr th {\n",
       "        vertical-align: top;\n",
       "    }\n",
       "\n",
       "    .dataframe thead th {\n",
       "        text-align: right;\n",
       "    }\n",
       "</style>\n",
       "<table border=\"1\" class=\"dataframe\">\n",
       "  <thead>\n",
       "    <tr style=\"text-align: right;\">\n",
       "      <th></th>\n",
       "      <th>0</th>\n",
       "    </tr>\n",
       "  </thead>\n",
       "  <tbody>\n",
       "    <tr>\n",
       "      <th>count</th>\n",
       "      <td>89855.000000</td>\n",
       "    </tr>\n",
       "    <tr>\n",
       "      <th>mean</th>\n",
       "      <td>0.000174</td>\n",
       "    </tr>\n",
       "    <tr>\n",
       "      <th>std</th>\n",
       "      <td>10.619510</td>\n",
       "    </tr>\n",
       "    <tr>\n",
       "      <th>min</th>\n",
       "      <td>-277.411652</td>\n",
       "    </tr>\n",
       "    <tr>\n",
       "      <th>25%</th>\n",
       "      <td>-4.312756</td>\n",
       "    </tr>\n",
       "    <tr>\n",
       "      <th>50%</th>\n",
       "      <td>-0.293543</td>\n",
       "    </tr>\n",
       "    <tr>\n",
       "      <th>75%</th>\n",
       "      <td>3.582992</td>\n",
       "    </tr>\n",
       "    <tr>\n",
       "      <th>max</th>\n",
       "      <td>301.123464</td>\n",
       "    </tr>\n",
       "  </tbody>\n",
       "</table>\n",
       "</div>"
      ],
      "text/plain": [
       "                  0\n",
       "count  89855.000000\n",
       "mean       0.000174\n",
       "std       10.619510\n",
       "min     -277.411652\n",
       "25%       -4.312756\n",
       "50%       -0.293543\n",
       "75%        3.582992\n",
       "max      301.123464"
      ]
     },
     "execution_count": 105,
     "metadata": {},
     "output_type": "execute_result"
    }
   ],
   "source": [
    "residuals.describe()"
   ]
  },
  {
   "cell_type": "markdown",
   "id": "ed2f17f7",
   "metadata": {},
   "source": [
    "### Trying auto-arima"
   ]
  },
  {
   "cell_type": "code",
   "execution_count": 108,
   "id": "62bbc0b0",
   "metadata": {},
   "outputs": [
    {
     "name": "stdout",
     "output_type": "stream",
     "text": [
      "Performing stepwise search to minimize aic\n",
      " ARIMA(1,0,1)(0,0,0)[0] intercept   : AIC=672781.870, Time=12.20 sec\n",
      " ARIMA(0,0,0)(0,0,0)[0] intercept   : AIC=779863.233, Time=1.26 sec\n",
      " ARIMA(1,0,0)(0,0,0)[0] intercept   : AIC=672818.180, Time=1.43 sec\n",
      " ARIMA(0,0,1)(0,0,0)[0] intercept   : AIC=722518.095, Time=8.36 sec\n",
      " ARIMA(0,0,0)(0,0,0)[0]             : AIC=832321.319, Time=0.70 sec\n",
      " ARIMA(2,0,1)(0,0,0)[0] intercept   : AIC=672526.585, Time=33.24 sec\n",
      " ARIMA(2,0,0)(0,0,0)[0] intercept   : AIC=672771.065, Time=2.64 sec\n",
      " ARIMA(3,0,1)(0,0,0)[0] intercept   : AIC=670130.373, Time=43.41 sec\n",
      " ARIMA(3,0,0)(0,0,0)[0] intercept   : AIC=671564.356, Time=2.72 sec\n",
      " ARIMA(4,0,1)(0,0,0)[0] intercept   : AIC=670090.195, Time=58.31 sec\n",
      " ARIMA(4,0,0)(0,0,0)[0] intercept   : AIC=670954.866, Time=3.33 sec\n",
      " ARIMA(5,0,1)(0,0,0)[0] intercept   : AIC=670022.290, Time=70.21 sec\n",
      " ARIMA(5,0,0)(0,0,0)[0] intercept   : AIC=670633.464, Time=3.81 sec\n",
      " ARIMA(6,0,1)(0,0,0)[0] intercept   : AIC=669884.176, Time=89.41 sec\n",
      " ARIMA(6,0,0)(0,0,0)[0] intercept   : AIC=670327.030, Time=5.01 sec\n",
      " ARIMA(7,0,1)(0,0,0)[0] intercept   : AIC=669749.086, Time=109.12 sec\n",
      " ARIMA(7,0,0)(0,0,0)[0] intercept   : AIC=670030.734, Time=5.48 sec\n",
      " ARIMA(8,0,1)(0,0,0)[0] intercept   : AIC=669619.810, Time=104.57 sec\n",
      " ARIMA(8,0,0)(0,0,0)[0] intercept   : AIC=669734.585, Time=5.92 sec\n",
      " ARIMA(8,0,2)(0,0,0)[0] intercept   : AIC=668650.835, Time=172.48 sec\n",
      " ARIMA(7,0,2)(0,0,0)[0] intercept   : AIC=669657.837, Time=150.30 sec\n",
      " ARIMA(8,0,2)(0,0,0)[0]             : AIC=675369.584, Time=8.35 sec\n",
      "\n",
      "Best model:  ARIMA(8,0,2)(0,0,0)[0] intercept\n",
      "Total fit time: 892.352 seconds\n",
      "668650.835324398\n"
     ]
    }
   ],
   "source": [
    "model = auto_arima(train, start_p=1, start_q=1,\n",
    "                           max_p=8, max_q=2, m=1,\n",
    "                           seasonal=True,\n",
    "                           d=0, trace=True,\n",
    "                           error_action='warn',  \n",
    "                           suppress_warnings=True, \n",
    "                           stepwise=True)\n",
    "print(model.aic())\n",
    "\n",
    "model.fit(train)\n",
    "\n",
    "prediction1 = model.predict(n_periods=len(train))\n",
    "prediction2 = model.predict(n_periods=len(test))\n",
    "\n",
    "#plot the predictions for validation set\n",
    "# plt.plot(time_train,train, label='train')\n",
    "# plt.plot(time_test,test, label='test')\n",
    "# plt.plot(time_train, prediction1, label='prediction1')\n",
    "# plt.plot(time_test, prediction2, label='prediction2')\n",
    "# plt.legend()\n",
    "# plt.show()"
   ]
  },
  {
   "cell_type": "code",
   "execution_count": 115,
   "id": "be20f60f",
   "metadata": {},
   "outputs": [
    {
     "data": {
      "text/plain": [
       "(89855,)"
      ]
     },
     "execution_count": 115,
     "metadata": {},
     "output_type": "execute_result"
    }
   ],
   "source": [
    "prediction1.shape"
   ]
  },
  {
   "cell_type": "code",
   "execution_count": 117,
   "id": "67fc3c86",
   "metadata": {},
   "outputs": [
    {
     "data": {
      "text/plain": [
       "(22464,)"
      ]
     },
     "execution_count": 117,
     "metadata": {},
     "output_type": "execute_result"
    }
   ],
   "source": [
    "hourly_count[split:].index.shape"
   ]
  },
  {
   "cell_type": "code",
   "execution_count": 123,
   "id": "025fc3f4",
   "metadata": {},
   "outputs": [
    {
     "data": {
      "image/png": "[encoded data removed]",
      "text/plain": [
       "<Figure size 432x288 with 1 Axes>"
      ]
     },
     "metadata": {
      "needs_background": "light"
     },
     "output_type": "display_data"
    }
   ],
   "source": [
    "plt.plot(train[:100]);\n",
    "plt.plot(prediction2[:100]);"
   ]
  },
  {
   "cell_type": "code",
   "execution_count": 118,
   "id": "b62b8756",
   "metadata": {},
   "outputs": [
    {
     "data": {
      "image/png": "[encoded data removed]",
      "text/plain": [
       "<Figure size 432x288 with 1 Axes>"
      ]
     },
     "metadata": {
      "needs_background": "light"
     },
     "output_type": "display_data"
    }
   ],
   "source": [
    "plt.plot(hourly_count[:split].index, train, label='train')\n",
    "plt.plot(hourly_count[:split].index, prediction1, label='prediction1')\n",
    "plt.plot(hourly_count[split:].index, test, label='test')\n",
    "plt.plot(hourly_count[split:].index, prediction2, label='prediction2')\n",
    "plt.legend()\n",
    "plt.show()"
   ]
  },
  {
   "cell_type": "markdown",
   "id": "ec590f92",
   "metadata": {},
   "source": [
    "### ARIMA TO-DOs\n",
    "* Tune model, train/test RMSE\n",
    "* Zip-code dummies\n",
    "* Baseline - historical average for that date?"
   ]
  },
  {
   "cell_type": "markdown",
   "id": "c6e1ec99",
   "metadata": {},
   "source": [
    "*Models to build:*\n",
    " * General volume\n",
    " * Garbage can overflowing\n",
    " * General cleaning\n",
    " * Bulky items\n",
    " \n",
    "*Data Restrictions*\n",
    " * Use street cleaning category\n",
    " * Years: 2016-present (April 1st, 2023)"
   ]
  },
  {
   "cell_type": "markdown",
   "id": "2dfe0890",
   "metadata": {},
   "source": [
    "*Features to include:*\n",
    " * minute\n",
    " * day\n",
    " * hour\n",
    " * hour lags (hours 6-12)\n",
    " * ACS census tract data\n",
    " "
   ]
  },
  {
   "cell_type": "code",
   "execution_count": null,
   "id": "cf21206c",
   "metadata": {},
   "outputs": [],
   "source": []
  }
 ],
 "metadata": {
  "kernelspec": {
   "display_name": "Python 3 (ipykernel)",
   "language": "python",
   "name": "python3"
  },
  "language_info": {
   "codemirror_mode": {
    "name": "ipython",
    "version": 3
   },
   "file_extension": ".py",
   "mimetype": "text/x-python",
   "name": "python",
   "nbconvert_exporter": "python",
   "pygments_lexer": "ipython3",
   "version": "3.9.12"
  }
 },
 "nbformat": 4,
 "nbformat_minor": 5
}
