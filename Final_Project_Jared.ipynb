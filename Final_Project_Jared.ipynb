{
 "cells": [
  {
   "cell_type": "code",
   "execution_count": 5,
   "id": "addd6df1",
   "metadata": {},
   "outputs": [],
   "source": [
    "from sodapy import Socrata\n",
    "import pandas as pd"
   ]
  },
  {
   "cell_type": "code",
   "execution_count": 6,
   "id": "c55e06a9",
   "metadata": {},
   "outputs": [
    {
     "name": "stderr",
     "output_type": "stream",
     "text": [
      "WARNING:root:Requests made without an app_token will be subject to strict throttling limits.\n"
     ]
    }
   ],
   "source": [
    "MyAppToken = 'JdK1UvvQNN9ywfsIQJQfJMWLF'\n",
    "client = Socrata(\"data.sfgov.org\", None)\n",
    "# client = Socrata(\"https://data.sfgov.org/resource/\",\n",
    "#                  MyAppToken,\n",
    "#                  username=\"jared_schober@berkeley.edu\",\n",
    "#                  password=\"94?intellegence?\")\n",
    "results = client.get(\"vw6y-z8j6\", limit=2000)\n",
    "results_df = pd.DataFrame.from_records(results)"
   ]
  },
  {
   "cell_type": "code",
   "execution_count": 25,
   "id": "eee7c5f1",
   "metadata": {},
   "outputs": [
    {
     "data": {
      "text/plain": [
       "service_request_id                                                          16631165\n",
       "requested_datetime                                           2023-04-05T01:12:18.000\n",
       "updated_datetime                                             2023-04-05T03:10:45.000\n",
       "status_description                                                              Open\n",
       "status_notes                                                                accepted\n",
       "agency_responsible                                              Recology_Overflowing\n",
       "service_name                                            Street and Sidewalk Cleaning\n",
       "service_subtype                                         City_garbage_can_overflowing\n",
       "service_details                                         City_garbage_can_overflowing\n",
       "address                                        986 POLK ST, SAN FRANCISCO, CA, 94109\n",
       "street                                                                       POLK ST\n",
       "supervisor_district                                                                5\n",
       "neighborhoods_sffind_boundaries                                           Tenderloin\n",
       "police_district                                                             NORTHERN\n",
       "lat                                                                  37.785783664517\n",
       "long                                                               -122.419632307499\n",
       "point                              {'latitude': '37.78578366', 'longitude': '-122...\n",
       "source                                                                Mobile/Open311\n",
       ":@computed_region_6qbp_sg9q                                                       20\n",
       ":@computed_region_qgnn_b9vv                                                        4\n",
       ":@computed_region_26cr_cadq                                                       10\n",
       ":@computed_region_ajp5_b2md                                                       36\n",
       ":@computed_region_rxqg_mtj9                                                        9\n",
       ":@computed_region_yftq_j783                                                       13\n",
       ":@computed_region_jx4q_fizf                                                        6\n",
       ":@computed_region_bh8s_q3mv                                                    28858\n",
       ":@computed_region_p5aj_wyqh                                                        9\n",
       ":@computed_region_fyvs_ahh9                                                       36\n",
       ":@computed_region_f58d_8dbm                                                       36\n",
       ":@computed_region_vtsz_7cme                                                       20\n",
       ":@computed_region_sruu_94in                                                       10\n",
       ":@computed_region_9jxd_iqea                                                       10\n",
       ":@computed_region_6ezc_tdp2                                                        1\n",
       ":@computed_region_6pnf_4xz7                                                        2\n",
       ":@computed_region_h4ep_8xdi                                                        1\n",
       ":@computed_region_jwn9_ihcz                                                       20\n",
       ":@computed_region_pigm_ib2e                                                      NaN\n",
       ":@computed_region_9dfj_4gjx                                                      NaN\n",
       ":@computed_region_4isq_27mq                                                      NaN\n",
       ":@computed_region_fcz8_est8                                                      NaN\n",
       ":@computed_region_nqbw_i6c3                                                      NaN\n",
       "media_url                                                                        NaN\n",
       ":@computed_region_viu7_rrfi                                                      NaN\n",
       ":@computed_region_2dwj_jsy4                                                      NaN\n",
       ":@computed_region_y6ts_4iup                                                      NaN\n",
       "closed_date                                                                      NaN\n",
       ":@computed_region_n4xg_c4py                                                      NaN\n",
       "Name: 0, dtype: object"
      ]
     },
     "execution_count": 25,
     "metadata": {},
     "output_type": "execute_result"
    }
   ],
   "source": [
    "results_df.loc[0,:]"
   ]
  },
  {
   "cell_type": "code",
   "execution_count": 39,
   "id": "d44f7e4c",
   "metadata": {},
   "outputs": [
    {
     "name": "stdout",
     "output_type": "stream",
     "text": [
      "Bulky Items\n",
      "General Cleaning\n",
      "City_garbage_can_overflowing\n",
      "Other_Illegal_Parking\n",
      "request_for_service\n",
      "Encampment Reports\n",
      "Blocking_Driveway_Cite_Only\n",
      "Human or Animal Waste\n",
      "Graffiti on Other_enter_additional_details_below\n",
      "Parking_on_Sidewalk\n",
      "complaint\n",
      "Abandoned Vehicles\n",
      "Blocking_Driveway_Cite_Tow\n",
      "Pavement_Defect\n",
      "Graffiti on Building_commercial\n",
      "Trees - Damaged_Tree\n",
      "Sidewalk_Defect\n",
      "Graffiti on Sidewalk_in_front_of_property\n",
      "Graffiti on Signal_box\n",
      "Hazardous Materials\n",
      "Graffiti on Parking_meter\n",
      "Graffiti on Building_residential\n",
      "Graffiti on City_receptacle\n",
      "Sewage_back_up\n",
      "Damaged Parking_Meter\n",
      "Graffiti on Street\n",
      "Toters_left_out_24x7\n",
      "Park - Park_Patrol\n",
      "Illegal Postings - Affixed_Improperly\n",
      "Park - Neighborhood_Services_Area\n",
      "Trees - Landscaping\n",
      "Graffiti on Transit_Shelter_Platform\n",
      "customer_callback\n",
      "Graffiti on Building_other\n",
      "Graffiti on Mail_box\n",
      "Other_garbage_can_repair\n",
      "Trees - Overgrown_Tree\n",
      "Double_Parking\n",
      "Blocking_Bicycle_Lane\n",
      "Graffiti on ATT_Property\n",
      "Sign - Defaced\n",
      "Muni - Complaint_Pass_Ups_Denial_Inattention\n",
      "Transit_shelter_platform\n",
      "Park - Structural_Maintenance\n",
      "Encampment items\n",
      "Muni - Complaint_Frequency_Reliability\n",
      "Medical Waste\n",
      "Streetlight - Light_Burnt_Out\n",
      "other\n",
      "Curb_or_Curb_Ramp_Defect\n",
      "followup_request\n",
      "Noise Issue\n",
      "Damaged other\n",
      "Abandoned Vehicle - Car4door\n",
      "Trees - Damaging_Property\n",
      "Sign Repair - Missing\n",
      "Graffiti on Fire_Police_Callbox\n",
      "Muni - Complaint_Maintenance_Repair\n",
      "Water_leak\n",
      "Other_including_abandoned_toter\n",
      "Add_remove_garbage_can\n",
      "Abandoned Vehicle - PickupTruck\n",
      "Sign - Faded\n",
      "Graffiti on Sidewalk_structure\n",
      "Blocked_Sidewalk\n",
      "Illegal Postings - Multiple_Postings\n",
      "Trees - Tree_Other\n",
      "Shared_SpacesOther\n",
      "mechanical_equipment\n",
      "Streetlight - Pullbox_Wires_Exposed\n",
      "Building - General_Maintenance_Not_in_List_Above\n",
      "Construction_Plate_Shifted\n",
      "Sign Repair - Other\n",
      "Missing_Side_Sewer_Vent_Cover\n",
      "Damaged_Side_Sewer_Vent_Cover\n",
      "Streetlight - Other\n",
      "Sign Repair - Not_Visible\n",
      "Missed_TrashRecycleCompost_Collection\n",
      "Sign - Bent\n",
      "Building - Mold_and_Mildew\n",
      "Tipped_over\n",
      "Sign - On_Ground\n",
      "Maintenance\n",
      "Damaged_Property\n",
      "Christmas_tree\n",
      "Muni - Complaint_Unsafe_Operation\n",
      "Graffiti\n",
      "Damaged Transit_Shelter_Platform_Hazardous\n",
      "Streetlight - Light_On_all_the_time\n",
      "construction_private_property\n",
      "Muni - Complaint_Special_Events\n",
      "Building - Plumbing_Broken_leaking\n",
      "Building - Infestation_Rodent_Insect\n",
      "Utility Lines/Wires\n",
      "Graffiti on News_rack\n",
      "compliment\n",
      "Muni - Complaint_Safety_Security\n",
      "Community_Clean_Team\n",
      "Building - Inadequately_Maintained_Building_Exterior\n",
      "Muni - Complaint_Discourteous_Unprofessional\n",
      "Muni - Other_Misc_Feedback_Requests\n",
      "Sign - Missing\n",
      "Abandoned Vehicle - SUV\n",
      "garbage_recycling_collection\n",
      "Abandoned Vehicle - Car2door\n",
      "other_excessive_noise\n",
      "Muni - Complaint_Information_Systems\n",
      "Graffiti on Bike_rack\n",
      "Building - Deck_Stairs_Handrails\n",
      "Blocked_Parking_Space_or_Strip\n",
      "Abandoned Vehicle - Other\n",
      "Flooding\n",
      "Abandoned Vehicle -\n",
      "Door_lock_issue\n",
      "Park - UrbanForestry\n",
      "Muni - Complaint_Signs_Maps\n",
      "Graffiti on Pole\n",
      "Sign Repair - On_Ground\n",
      "Graffiti on Fire_hydrant\n",
      "Muni - Praise\n",
      "Sign - Other\n",
      "Illegal Postings - Posted_on_Traffic_Light\n"
     ]
    }
   ],
   "source": [
    "for key in results_df['service_subtype'].value_counts().keys():\n",
    "    print(key)"
   ]
  },
  {
   "cell_type": "code",
   "execution_count": 40,
   "id": "99b66b54",
   "metadata": {},
   "outputs": [
    {
     "data": {
      "text/plain": [
       "Bulky Items                                   302\n",
       "General Cleaning                              300\n",
       "City_garbage_can_overflowing                  251\n",
       "Other_Illegal_Parking                          96\n",
       "request_for_service                            70\n",
       "                                             ... \n",
       "Sign Repair - On_Ground                         1\n",
       "Graffiti on Fire_hydrant                        1\n",
       "Muni - Praise                                   1\n",
       "Sign - Other                                    1\n",
       "Illegal Postings - Posted_on_Traffic_Light      1\n",
       "Name: service_subtype, Length: 122, dtype: int64"
      ]
     },
     "execution_count": 40,
     "metadata": {},
     "output_type": "execute_result"
    }
   ],
   "source": [
    "results_df['service_subtype'].value_counts()"
   ]
  },
  {
   "cell_type": "code",
   "execution_count": null,
   "id": "356f4819",
   "metadata": {},
   "outputs": [],
   "source": []
  }
 ],
 "metadata": {
  "kernelspec": {
   "display_name": "Python 3 (ipykernel)",
   "language": "python",
   "name": "python3"
  },
  "language_info": {
   "codemirror_mode": {
    "name": "ipython",
    "version": 3
   },
   "file_extension": ".py",
   "mimetype": "text/x-python",
   "name": "python",
   "nbconvert_exporter": "python",
   "pygments_lexer": "ipython3",
   "version": "3.9.12"
  }
 },
 "nbformat": 4,
 "nbformat_minor": 5
}
